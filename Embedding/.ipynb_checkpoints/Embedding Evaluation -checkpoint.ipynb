{
 "cells": [
  {
   "cell_type": "code",
   "execution_count": 1,
   "id": "f1e42801",
   "metadata": {},
   "outputs": [
    {
     "name": "stderr",
     "output_type": "stream",
     "text": [
      "Using TensorFlow backend.\n"
     ]
    }
   ],
   "source": [
    "import json\n",
    "import pandas as pd\n",
    "import string\n",
    "import numpy as np\n",
    "import tensorflow as tf\n",
    "import nltk, re\n",
    "from nltk.corpus import stopwords\n",
    "from keras.preprocessing.text import Tokenizer\n",
    "from datetime import datetime\n",
    "from gensim.models import *\n",
    "import logging\n",
    "import matplotlib.pyplot as plt\n",
    "import seaborn as sns\n",
    "import plotly.express as px\n",
    "sns.set()\n",
    "%matplotlib inline"
   ]
  },
  {
   "cell_type": "code",
   "execution_count": 2,
   "id": "a2fd9419",
   "metadata": {},
   "outputs": [],
   "source": [
    "model_w2v = Word2Vec.load(\"Saved_models/gensim_word2vec_withstop\")\n",
    "model_FT = Word2Vec.load(\"Saved_models/gensim_fastText_withstop\")\n",
    "model_w2v_ns = Word2Vec.load(\"Saved_models/gensim_word2vec_nostop\")\n",
    "model_FT_ns = Word2Vec.load(\"Saved_models/gensim_fastText_nostop\")"
   ]
  },
  {
   "cell_type": "code",
   "execution_count": 3,
   "id": "75be952d",
   "metadata": {},
   "outputs": [
    {
     "name": "stdout",
     "output_type": "stream",
     "text": [
      "Total of words: 14122\n",
      "Total of words: 14122\n",
      "Total of words: 14114\n",
      "Total of words: 14114\n"
     ]
    }
   ],
   "source": [
    "print(\"Total of words: {}\".format(len(model_w2v.wv.key_to_index)))\n",
    "print(\"Total of words: {}\".format(len(model_FT.wv.key_to_index)))\n",
    "print(\"Total of words: {}\".format(len(model_w2v_ns.wv.key_to_index)))\n",
    "print(\"Total of words: {}\".format(len(model_FT_ns.wv.key_to_index)))"
   ]
  },
  {
   "cell_type": "code",
   "execution_count": 4,
   "id": "3fd9589f",
   "metadata": {},
   "outputs": [
    {
     "data": {
      "text/html": [
       "<div>\n",
       "<style scoped>\n",
       "    .dataframe tbody tr th:only-of-type {\n",
       "        vertical-align: middle;\n",
       "    }\n",
       "\n",
       "    .dataframe tbody tr th {\n",
       "        vertical-align: top;\n",
       "    }\n",
       "\n",
       "    .dataframe thead th {\n",
       "        text-align: right;\n",
       "    }\n",
       "</style>\n",
       "<table border=\"1\" class=\"dataframe\">\n",
       "  <thead>\n",
       "    <tr style=\"text-align: right;\">\n",
       "      <th></th>\n",
       "      <th>w2v</th>\n",
       "      <th>w2v_ns</th>\n",
       "      <th>FT</th>\n",
       "      <th>FT_ns</th>\n",
       "    </tr>\n",
       "  </thead>\n",
       "  <tbody>\n",
       "    <tr>\n",
       "      <th>0</th>\n",
       "      <td>the</td>\n",
       "      <td>one</td>\n",
       "      <td>the</td>\n",
       "      <td>one</td>\n",
       "    </tr>\n",
       "    <tr>\n",
       "      <th>1</th>\n",
       "      <td>and</td>\n",
       "      <td>it</td>\n",
       "      <td>and</td>\n",
       "      <td>it</td>\n",
       "    </tr>\n",
       "    <tr>\n",
       "      <th>2</th>\n",
       "      <td>a</td>\n",
       "      <td>game</td>\n",
       "      <td>a</td>\n",
       "      <td>game</td>\n",
       "    </tr>\n",
       "    <tr>\n",
       "      <th>3</th>\n",
       "      <td>to</td>\n",
       "      <td>old</td>\n",
       "      <td>to</td>\n",
       "      <td>old</td>\n",
       "    </tr>\n",
       "    <tr>\n",
       "      <th>4</th>\n",
       "      <td>it</td>\n",
       "      <td>toy</td>\n",
       "      <td>it</td>\n",
       "      <td>toy</td>\n",
       "    </tr>\n",
       "    <tr>\n",
       "      <th>5</th>\n",
       "      <td>is</td>\n",
       "      <td>like</td>\n",
       "      <td>is</td>\n",
       "      <td>like</td>\n",
       "    </tr>\n",
       "    <tr>\n",
       "      <th>6</th>\n",
       "      <td>i</td>\n",
       "      <td>great</td>\n",
       "      <td>i</td>\n",
       "      <td>great</td>\n",
       "    </tr>\n",
       "    <tr>\n",
       "      <th>7</th>\n",
       "      <td>of</td>\n",
       "      <td>play</td>\n",
       "      <td>of</td>\n",
       "      <td>play</td>\n",
       "    </tr>\n",
       "    <tr>\n",
       "      <th>8</th>\n",
       "      <td>this</td>\n",
       "      <td>little</td>\n",
       "      <td>this</td>\n",
       "      <td>little</td>\n",
       "    </tr>\n",
       "    <tr>\n",
       "      <th>9</th>\n",
       "      <td>for</td>\n",
       "      <td>fun</td>\n",
       "      <td>for</td>\n",
       "      <td>fun</td>\n",
       "    </tr>\n",
       "    <tr>\n",
       "      <th>10</th>\n",
       "      <td>with</td>\n",
       "      <td>would</td>\n",
       "      <td>with</td>\n",
       "      <td>would</td>\n",
       "    </tr>\n",
       "    <tr>\n",
       "      <th>11</th>\n",
       "      <td>my</td>\n",
       "      <td>year</td>\n",
       "      <td>my</td>\n",
       "      <td>year</td>\n",
       "    </tr>\n",
       "    <tr>\n",
       "      <th>12</th>\n",
       "      <td>that</td>\n",
       "      <td>get</td>\n",
       "      <td>that</td>\n",
       "      <td>get</td>\n",
       "    </tr>\n",
       "    <tr>\n",
       "      <th>13</th>\n",
       "      <td>in</td>\n",
       "      <td>kids</td>\n",
       "      <td>in</td>\n",
       "      <td>kids</td>\n",
       "    </tr>\n",
       "    <tr>\n",
       "      <th>14</th>\n",
       "      <td>are</td>\n",
       "      <td>really</td>\n",
       "      <td>are</td>\n",
       "      <td>really</td>\n",
       "    </tr>\n",
       "    <tr>\n",
       "      <th>15</th>\n",
       "      <td>you</td>\n",
       "      <td>well</td>\n",
       "      <td>you</td>\n",
       "      <td>well</td>\n",
       "    </tr>\n",
       "    <tr>\n",
       "      <th>16</th>\n",
       "      <td>but</td>\n",
       "      <td>set</td>\n",
       "      <td>but</td>\n",
       "      <td>set</td>\n",
       "    </tr>\n",
       "    <tr>\n",
       "      <th>17</th>\n",
       "      <td>on</td>\n",
       "      <td>loves</td>\n",
       "      <td>on</td>\n",
       "      <td>loves</td>\n",
       "    </tr>\n",
       "    <tr>\n",
       "      <th>18</th>\n",
       "      <td>have</td>\n",
       "      <td>love</td>\n",
       "      <td>have</td>\n",
       "      <td>love</td>\n",
       "    </tr>\n",
       "    <tr>\n",
       "      <th>19</th>\n",
       "      <td>as</td>\n",
       "      <td>time</td>\n",
       "      <td>as</td>\n",
       "      <td>time</td>\n",
       "    </tr>\n",
       "  </tbody>\n",
       "</table>\n",
       "</div>"
      ],
      "text/plain": [
       "     w2v  w2v_ns    FT   FT_ns\n",
       "0    the     one   the     one\n",
       "1    and      it   and      it\n",
       "2      a    game     a    game\n",
       "3     to     old    to     old\n",
       "4     it     toy    it     toy\n",
       "5     is    like    is    like\n",
       "6      i   great     i   great\n",
       "7     of    play    of    play\n",
       "8   this  little  this  little\n",
       "9    for     fun   for     fun\n",
       "10  with   would  with   would\n",
       "11    my    year    my    year\n",
       "12  that     get  that     get\n",
       "13    in    kids    in    kids\n",
       "14   are  really   are  really\n",
       "15   you    well   you    well\n",
       "16   but     set   but     set\n",
       "17    on   loves    on   loves\n",
       "18  have    love  have    love\n",
       "19    as    time    as    time"
      ]
     },
     "execution_count": 4,
     "metadata": {},
     "output_type": "execute_result"
    }
   ],
   "source": [
    "df_top20 = pd.DataFrame({'w2v':model_w2v.wv.index_to_key[:20],\n",
    "                         'w2v_ns':model_w2v_ns.wv.index_to_key[:20],\n",
    "                         'FT':model_FT.wv.index_to_key[:20],\n",
    "                         'FT_ns':model_FT_ns.wv.index_to_key[:20]\n",
    "                        })\n",
    "df_top20"
   ]
  },
  {
   "cell_type": "code",
   "execution_count": 5,
   "id": "036dc9cb",
   "metadata": {},
   "outputs": [
    {
     "name": "stdout",
     "output_type": "stream",
     "text": [
      "W2V model:\n"
     ]
    },
    {
     "data": {
      "text/plain": [
       "[('product', 0.7496404051780701),\n",
       " ('item', 0.7274901866912842),\n",
       " ('gadget', 0.6702666878700256),\n",
       " ('trike', 0.6359018683433533),\n",
       " ('34toy34', 0.6356191635131836),\n",
       " ('doll', 0.6308627724647522),\n",
       " ('playset', 0.6069303750991821),\n",
       " ('yoyo', 0.6054989695549011),\n",
       " ('guitar', 0.6031512022018433),\n",
       " ('walker', 0.5903162956237793)]"
      ]
     },
     "execution_count": 5,
     "metadata": {},
     "output_type": "execute_result"
    }
   ],
   "source": [
    "print('W2V model:')\n",
    "model_w2v.wv.most_similar('toy')"
   ]
  },
  {
   "cell_type": "code",
   "execution_count": 6,
   "id": "c2a5a2b5",
   "metadata": {},
   "outputs": [
    {
     "name": "stdout",
     "output_type": "stream",
     "text": [
      "W2V model without stopwords:\n"
     ]
    },
    {
     "data": {
      "text/plain": [
       "[('toys', 0.748313844203949),\n",
       " ('product', 0.6101295948028564),\n",
       " ('itit', 0.5598199963569641),\n",
       " ('item', 0.5563713908195496),\n",
       " ('instruments', 0.5432813763618469),\n",
       " ('but', 0.5260838866233826),\n",
       " ('this', 0.5116648077964783),\n",
       " ('gadget', 0.5025051236152649),\n",
       " ('it', 0.5012068152427673),\n",
       " ('products', 0.49764811992645264)]"
      ]
     },
     "execution_count": 6,
     "metadata": {},
     "output_type": "execute_result"
    }
   ],
   "source": [
    "print('W2V model without stopwords:')\n",
    "model_w2v_ns.wv.most_similar('toy')"
   ]
  },
  {
   "cell_type": "code",
   "execution_count": 7,
   "id": "483df2c8",
   "metadata": {},
   "outputs": [
    {
     "name": "stdout",
     "output_type": "stream",
     "text": [
      "W2V model:\n"
     ]
    },
    {
     "data": {
      "text/plain": [
       "[('gameplay', 0.7899430394172668),\n",
       " ('mechanic', 0.7727646827697754),\n",
       " ('boardgame', 0.7657803297042847),\n",
       " ('games', 0.745033323764801),\n",
       " ('dominion', 0.7429848909378052),\n",
       " ('yahtzee', 0.7332404255867004),\n",
       " ('puerto', 0.7109677791595459),\n",
       " ('rico', 0.7102029919624329),\n",
       " ('uno', 0.6950544714927673),\n",
       " ('monopoly', 0.69499671459198)]"
      ]
     },
     "execution_count": 7,
     "metadata": {},
     "output_type": "execute_result"
    }
   ],
   "source": [
    "print('W2V model:')\n",
    "model_w2v.wv.most_similar('game')"
   ]
  },
  {
   "cell_type": "code",
   "execution_count": 8,
   "id": "785691dd",
   "metadata": {},
   "outputs": [
    {
     "name": "stdout",
     "output_type": "stream",
     "text": [
      "W2V model without stop words:\n"
     ]
    },
    {
     "data": {
      "text/plain": [
       "[('games', 0.8346940875053406),\n",
       " ('gameplay', 0.8038222789764404),\n",
       " ('yahtzee', 0.7521936893463135),\n",
       " ('strategy', 0.748908519744873),\n",
       " ('dominion', 0.7479944825172424),\n",
       " ('tsuro', 0.7423118948936462),\n",
       " ('rules', 0.7353088855743408),\n",
       " ('strategic', 0.7347947359085083),\n",
       " ('monopoly', 0.7275257706642151),\n",
       " ('catan', 0.723918616771698)]"
      ]
     },
     "execution_count": 8,
     "metadata": {},
     "output_type": "execute_result"
    }
   ],
   "source": [
    "print('W2V model without stop words:')\n",
    "model_w2v_ns.wv.most_similar('game')"
   ]
  },
  {
   "cell_type": "code",
   "execution_count": 9,
   "id": "33aa734b",
   "metadata": {},
   "outputs": [
    {
     "name": "stdout",
     "output_type": "stream",
     "text": [
      "W2V model:\n"
     ]
    },
    {
     "data": {
      "text/plain": [
       "[('child', 0.8785333633422852),\n",
       " ('kiddo', 0.8779374957084656),\n",
       " ('youngster', 0.816042423248291),\n",
       " ('toddler', 0.7958777546882629),\n",
       " ('tot', 0.7861181497573853),\n",
       " ('kindergartener', 0.7216037511825562),\n",
       " ('kids', 0.7213756442070007),\n",
       " ('son', 0.7199176549911499),\n",
       " ('grandson', 0.7086586952209473),\n",
       " ('preschooler', 0.7008289098739624)]"
      ]
     },
     "execution_count": 9,
     "metadata": {},
     "output_type": "execute_result"
    }
   ],
   "source": [
    "print('W2V model:')\n",
    "model_w2v.wv.most_similar('kid')"
   ]
  },
  {
   "cell_type": "code",
   "execution_count": 10,
   "id": "ff3c53a4",
   "metadata": {},
   "outputs": [
    {
     "name": "stdout",
     "output_type": "stream",
     "text": [
      "W2V model without stop words:\n"
     ]
    },
    {
     "data": {
      "text/plain": [
       "[('kiddo', 0.8209996223449707),\n",
       " ('child', 0.8140679001808167),\n",
       " ('kids', 0.7694764733314514),\n",
       " ('youngster', 0.7368524074554443),\n",
       " ('toddler', 0.7017639875411987),\n",
       " ('kiddos', 0.6740171313285828),\n",
       " ('son', 0.6703698635101318),\n",
       " ('tot', 0.641362726688385),\n",
       " ('children', 0.6388410925865173),\n",
       " ('siblings', 0.6365243196487427)]"
      ]
     },
     "execution_count": 10,
     "metadata": {},
     "output_type": "execute_result"
    }
   ],
   "source": [
    "print('W2V model without stop words:')\n",
    "model_w2v_ns.wv.most_similar('kid')"
   ]
  },
  {
   "cell_type": "code",
   "execution_count": 11,
   "id": "8d9326f3",
   "metadata": {},
   "outputs": [
    {
     "name": "stdout",
     "output_type": "stream",
     "text": [
      "FT model\n"
     ]
    },
    {
     "data": {
      "text/plain": [
       "[('toy34', 0.9020260572433472),\n",
       " ('toygame', 0.8029504418373108),\n",
       " ('34toy34', 0.7945197224617004),\n",
       " ('product', 0.7474470734596252),\n",
       " ('item', 0.7418120503425598),\n",
       " ('toys34', 0.7304347157478333),\n",
       " ('toyline', 0.6928486227989197),\n",
       " ('toybox', 0.6849762201309204),\n",
       " ('doll', 0.6239954233169556),\n",
       " ('thing', 0.6168749332427979)]"
      ]
     },
     "execution_count": 11,
     "metadata": {},
     "output_type": "execute_result"
    }
   ],
   "source": [
    "print('FT model')\n",
    "model_FT.wv.most_similar('toy')"
   ]
  },
  {
   "cell_type": "code",
   "execution_count": 12,
   "id": "15b02eb1",
   "metadata": {},
   "outputs": [
    {
     "name": "stdout",
     "output_type": "stream",
     "text": [
      "FT model without stop words:\n"
     ]
    },
    {
     "data": {
      "text/plain": [
       "[('toy34', 0.8718318343162537),\n",
       " ('toys34', 0.8053969144821167),\n",
       " ('toys', 0.777368426322937),\n",
       " ('toybox', 0.6306130886077881),\n",
       " ('34toy34', 0.6306118965148926),\n",
       " ('toygame', 0.6071611046791077),\n",
       " ('itit', 0.5997652411460876),\n",
       " ('product', 0.5837191939353943),\n",
       " ('it1', 0.577697217464447),\n",
       " ('iti', 0.5737291574478149)]"
      ]
     },
     "execution_count": 12,
     "metadata": {},
     "output_type": "execute_result"
    }
   ],
   "source": [
    "print('FT model without stop words:')\n",
    "model_FT_ns.wv.most_similar('toy')"
   ]
  },
  {
   "cell_type": "code",
   "execution_count": 13,
   "id": "7fb6d58a",
   "metadata": {},
   "outputs": [
    {
     "name": "stdout",
     "output_type": "stream",
     "text": [
      "FT model\n"
     ]
    },
    {
     "data": {
      "text/plain": [
       "[('game34', 0.9575234651565552),\n",
       " ('gamei', 0.9455016255378723),\n",
       " ('gamethe', 0.9170735478401184),\n",
       " ('gamepad', 0.8984442353248596),\n",
       " ('gameboy', 0.8976966738700867),\n",
       " ('toygame', 0.8814818859100342),\n",
       " ('gamewright', 0.8759657740592957),\n",
       " ('eurogame', 0.8666278123855591),\n",
       " ('gamer', 0.8651279807090759),\n",
       " ('gameplay', 0.8641268610954285)]"
      ]
     },
     "execution_count": 13,
     "metadata": {},
     "output_type": "execute_result"
    }
   ],
   "source": [
    "print('FT model')\n",
    "model_FT.wv.most_similar('game')"
   ]
  },
  {
   "cell_type": "code",
   "execution_count": 14,
   "id": "c7773a9c",
   "metadata": {},
   "outputs": [
    {
     "name": "stdout",
     "output_type": "stream",
     "text": [
      "FT model without stop words:\n"
     ]
    },
    {
     "data": {
      "text/plain": [
       "[('gamei', 0.9638020992279053),\n",
       " ('game34', 0.9559321999549866),\n",
       " ('gamethe', 0.9127485156059265),\n",
       " ('gameboy', 0.8907443284988403),\n",
       " ('gamepad', 0.8794470429420471),\n",
       " ('boardgame', 0.870673656463623),\n",
       " ('eurogame', 0.8695112466812134),\n",
       " ('gamer', 0.8688828349113464),\n",
       " ('gameplay', 0.8633744120597839),\n",
       " ('gamers', 0.8520962595939636)]"
      ]
     },
     "execution_count": 14,
     "metadata": {},
     "output_type": "execute_result"
    }
   ],
   "source": [
    "print('FT model without stop words:')\n",
    "model_FT_ns.wv.most_similar('game')"
   ]
  },
  {
   "cell_type": "code",
   "execution_count": 30,
   "id": "c7834134",
   "metadata": {},
   "outputs": [
    {
     "name": "stdout",
     "output_type": "stream",
     "text": [
      "FT model\n"
     ]
    },
    {
     "data": {
      "text/plain": [
       "[('kiddo', 0.9265230894088745),\n",
       " ('child', 0.8839387893676758),\n",
       " ('kiddie', 0.8119521737098694),\n",
       " ('toddler', 0.7957093715667725),\n",
       " ('kiddos', 0.7894633412361145),\n",
       " ('childish', 0.786952555179596),\n",
       " ('chilly', 0.7842771410942078),\n",
       " ('babytoddler', 0.7746273279190063),\n",
       " ('skid', 0.7743611335754395),\n",
       " ('kidizoom', 0.7623398900032043)]"
      ]
     },
     "execution_count": 30,
     "metadata": {},
     "output_type": "execute_result"
    }
   ],
   "source": [
    "print('FT model')\n",
    "model_FT.wv.most_similar('kid')"
   ]
  },
  {
   "cell_type": "code",
   "execution_count": 15,
   "id": "4445c78b",
   "metadata": {},
   "outputs": [
    {
     "name": "stdout",
     "output_type": "stream",
     "text": [
      "FT model without stop words:\n"
     ]
    },
    {
     "data": {
      "text/plain": [
       "[('kiddo', 0.8947991728782654),\n",
       " ('kiddos', 0.8058224320411682),\n",
       " ('child', 0.7909571528434753),\n",
       " ('kids', 0.787480890750885),\n",
       " ('ecr4kids', 0.6657035946846008),\n",
       " ('son', 0.6612998843193054),\n",
       " ('childcare', 0.6599504947662354),\n",
       " ('childish', 0.6561072468757629),\n",
       " ('children', 0.6490805149078369),\n",
       " ('chilly', 0.6486304402351379)]"
      ]
     },
     "execution_count": 15,
     "metadata": {},
     "output_type": "execute_result"
    }
   ],
   "source": [
    "print('FT model without stop words:')\n",
    "model_FT_ns.wv.most_similar('kid')"
   ]
  }
 ],
 "metadata": {
  "kernelspec": {
   "display_name": "Python 3",
   "language": "python",
   "name": "python3"
  },
  "language_info": {
   "codemirror_mode": {
    "name": "ipython",
    "version": 3
   },
   "file_extension": ".py",
   "mimetype": "text/x-python",
   "name": "python",
   "nbconvert_exporter": "python",
   "pygments_lexer": "ipython3",
   "version": "3.6.13"
  }
 },
 "nbformat": 4,
 "nbformat_minor": 5
}
