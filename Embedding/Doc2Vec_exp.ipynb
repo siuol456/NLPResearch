{
 "cells": [
  {
   "cell_type": "code",
   "execution_count": 7,
   "id": "160ae062",
   "metadata": {},
   "outputs": [],
   "source": [
    "import json\n",
    "import pandas as pd\n",
    "import string\n",
    "import numpy as np\n",
    "import tensorflow as tf\n",
    "import nltk, re\n",
    "from nltk.corpus import stopwords\n",
    "from keras.preprocessing.text import Tokenizer\n",
    "from datetime import datetime\n",
    "from gensim.models import *\n",
    "from gensim.utils import *\n",
    "import logging\n",
    "import matplotlib.pyplot as plt\n",
    "import seaborn as sns\n",
    "import plotly.express as px\n",
    "from sklearn.model_selection import train_test_split\n",
    "import collections\n",
    "sns.set()\n",
    "%matplotlib inline"
   ]
  },
  {
   "cell_type": "code",
   "execution_count": 8,
   "id": "6cf803e5",
   "metadata": {},
   "outputs": [],
   "source": [
    "def doc2vec_pre(review,tokens_only=False):\n",
    "    for i, reviews in enumerate(review):\n",
    "            tokens = simple_preprocess(reviews) #from gensim.utils\n",
    "            if tokens_only:\n",
    "                yield tokens\n",
    "            else:\n",
    "                # For training data, add tags\n",
    "                yield doc2vec.TaggedDocument(tokens, [i]) #from gensim.models"
   ]
  },
  {
   "cell_type": "code",
   "execution_count": 9,
   "id": "6f261a98",
   "metadata": {},
   "outputs": [],
   "source": [
    "review_A = []\n",
    "for line in open('Toys_and_Games_5.json', 'r'):\n",
    "    review_A.append(json.loads(line))"
   ]
  },
  {
   "cell_type": "code",
   "execution_count": 10,
   "id": "5ae4d933",
   "metadata": {},
   "outputs": [
    {
     "data": {
      "text/html": [
       "<div>\n",
       "<style scoped>\n",
       "    .dataframe tbody tr th:only-of-type {\n",
       "        vertical-align: middle;\n",
       "    }\n",
       "\n",
       "    .dataframe tbody tr th {\n",
       "        vertical-align: top;\n",
       "    }\n",
       "\n",
       "    .dataframe thead th {\n",
       "        text-align: right;\n",
       "    }\n",
       "</style>\n",
       "<table border=\"1\" class=\"dataframe\">\n",
       "  <thead>\n",
       "    <tr style=\"text-align: right;\">\n",
       "      <th></th>\n",
       "      <th>reviewerID</th>\n",
       "      <th>asin</th>\n",
       "      <th>reviewerName</th>\n",
       "      <th>helpful</th>\n",
       "      <th>reviewText</th>\n",
       "      <th>overall</th>\n",
       "      <th>summary</th>\n",
       "      <th>unixReviewTime</th>\n",
       "      <th>reviewTime</th>\n",
       "    </tr>\n",
       "  </thead>\n",
       "  <tbody>\n",
       "    <tr>\n",
       "      <th>0</th>\n",
       "      <td>A1VXOAVRGKGEAK</td>\n",
       "      <td>0439893577</td>\n",
       "      <td>Angie</td>\n",
       "      <td>[0, 0]</td>\n",
       "      <td>I like the item pricing. My granddaughter want...</td>\n",
       "      <td>5.0</td>\n",
       "      <td>Magnetic board</td>\n",
       "      <td>1390953600</td>\n",
       "      <td>01 29, 2014</td>\n",
       "    </tr>\n",
       "    <tr>\n",
       "      <th>1</th>\n",
       "      <td>A8R62G708TSCM</td>\n",
       "      <td>0439893577</td>\n",
       "      <td>Candace</td>\n",
       "      <td>[1, 1]</td>\n",
       "      <td>Love the magnet easel... great for moving to d...</td>\n",
       "      <td>4.0</td>\n",
       "      <td>it works pretty good for moving to different a...</td>\n",
       "      <td>1395964800</td>\n",
       "      <td>03 28, 2014</td>\n",
       "    </tr>\n",
       "    <tr>\n",
       "      <th>2</th>\n",
       "      <td>A21KH420DK0ICA</td>\n",
       "      <td>0439893577</td>\n",
       "      <td>capemaychristy</td>\n",
       "      <td>[1, 1]</td>\n",
       "      <td>Both sides are magnetic.  A real plus when you...</td>\n",
       "      <td>5.0</td>\n",
       "      <td>love this!</td>\n",
       "      <td>1359331200</td>\n",
       "      <td>01 28, 2013</td>\n",
       "    </tr>\n",
       "    <tr>\n",
       "      <th>3</th>\n",
       "      <td>AR29QK6HPFYZ4</td>\n",
       "      <td>0439893577</td>\n",
       "      <td>dcrm</td>\n",
       "      <td>[0, 0]</td>\n",
       "      <td>Bought one a few years ago for my daughter and...</td>\n",
       "      <td>5.0</td>\n",
       "      <td>Daughters love it</td>\n",
       "      <td>1391817600</td>\n",
       "      <td>02 8, 2014</td>\n",
       "    </tr>\n",
       "    <tr>\n",
       "      <th>4</th>\n",
       "      <td>ACCH8EOML6FN5</td>\n",
       "      <td>0439893577</td>\n",
       "      <td>DoyZ</td>\n",
       "      <td>[1, 1]</td>\n",
       "      <td>I have a stainless steel refrigerator therefor...</td>\n",
       "      <td>4.0</td>\n",
       "      <td>Great to have so he can play with his alphabet...</td>\n",
       "      <td>1399248000</td>\n",
       "      <td>05 5, 2014</td>\n",
       "    </tr>\n",
       "  </tbody>\n",
       "</table>\n",
       "</div>"
      ],
      "text/plain": [
       "       reviewerID        asin    reviewerName helpful  \\\n",
       "0  A1VXOAVRGKGEAK  0439893577           Angie  [0, 0]   \n",
       "1   A8R62G708TSCM  0439893577         Candace  [1, 1]   \n",
       "2  A21KH420DK0ICA  0439893577  capemaychristy  [1, 1]   \n",
       "3   AR29QK6HPFYZ4  0439893577            dcrm  [0, 0]   \n",
       "4   ACCH8EOML6FN5  0439893577            DoyZ  [1, 1]   \n",
       "\n",
       "                                          reviewText  overall  \\\n",
       "0  I like the item pricing. My granddaughter want...      5.0   \n",
       "1  Love the magnet easel... great for moving to d...      4.0   \n",
       "2  Both sides are magnetic.  A real plus when you...      5.0   \n",
       "3  Bought one a few years ago for my daughter and...      5.0   \n",
       "4  I have a stainless steel refrigerator therefor...      4.0   \n",
       "\n",
       "                                             summary  unixReviewTime  \\\n",
       "0                                     Magnetic board      1390953600   \n",
       "1  it works pretty good for moving to different a...      1395964800   \n",
       "2                                         love this!      1359331200   \n",
       "3                                  Daughters love it      1391817600   \n",
       "4  Great to have so he can play with his alphabet...      1399248000   \n",
       "\n",
       "    reviewTime  \n",
       "0  01 29, 2014  \n",
       "1  03 28, 2014  \n",
       "2  01 28, 2013  \n",
       "3   02 8, 2014  \n",
       "4   05 5, 2014  "
      ]
     },
     "execution_count": 10,
     "metadata": {},
     "output_type": "execute_result"
    }
   ],
   "source": [
    "df = pd.DataFrame(review_A)\n",
    "df.head()"
   ]
  },
  {
   "cell_type": "code",
   "execution_count": 11,
   "id": "ee9c8254",
   "metadata": {},
   "outputs": [],
   "source": [
    "X_train, X_test = train_test_split(df, test_size=0.20, random_state=42)"
   ]
  },
  {
   "cell_type": "code",
   "execution_count": 14,
   "id": "bc0beefe",
   "metadata": {},
   "outputs": [],
   "source": [
    "train_corpus = list(doc2vec_pre(X_train.reviewText))\n",
    "test_corpus = list(doc2vec_pre(X_test.reviewText, tokens_only=True))"
   ]
  },
  {
   "cell_type": "code",
   "execution_count": 15,
   "id": "a9e67a07",
   "metadata": {},
   "outputs": [
    {
     "name": "stdout",
     "output_type": "stream",
     "text": [
      "[TaggedDocument(words=['received', 'this', 'puzzle', 'for', 'review', 'through', 'the', 'amazon', 'vine', 'program', 'would', 'highly', 'recommend', 'puzzles', 'made', 'by', 'ravensburger', 'the', 'pieces', 'are', 'thick', 'and', 'easy', 'to', 'handle', 'they', 'connect', 'together', 'easily', 'the', 'colors', 'are', 'vivid', 'and', 'the', 'pictures', 'are', 'always', 'interesting', 'as', 'petty', 'as', 'this', 'might', 'sound', 'also', 'appreciated', 'the', 'fact', 'that', 'when', 'you', 'dumped', 'the', 'puzzle', 'out', 'of', 'the', 'bag', 'there', 'was', 'no', 'paper', 'trash', 'from', 'where', 'the', 'puzzle', 'was', 'cut', 'my', 'only', 'negatives', 'would', 'be', 'that', 'often', 'put', 'sections', 'together', 'outside', 'the', 'puzzle', 'by', 'color', 'and', 'then', 'move', 'them', 'in', 'to', 'where', 'they', 'go', 'and', 'this', 'puzzle', 'does', 'not', 'hold', 'together', 'to', 'do', 'it', 'this', 'way', 'and', 'while', 'the', 'quality', 'of', 'the', 'puzzle', 'is', 'very', 'good', 'don', 'like', 'paying', 'more', 'than', 'for', 'puzzle'], tags=[0]), TaggedDocument(words=['ordered', 'this', 'for', 'my', 'sons', 'st', 'bithday', 'it', 'was', 'cute', 'arrived', 'just', 'as', 'described', 'we', 'used', 'it', 'as', 'background', 'for', 'pictures'], tags=[1])]\n"
     ]
    }
   ],
   "source": [
    "print(train_corpus[:2])"
   ]
  },
  {
   "cell_type": "code",
   "execution_count": 16,
   "id": "d1697c6f",
   "metadata": {},
   "outputs": [
    {
     "name": "stdout",
     "output_type": "stream",
     "text": [
      "[['wish', 'had', 'bought', 'this', 'sooner', 'for', 'my', 'yr', 'old', 'daughter', 'she', 'loves', 'playing', 'with', 'it', 'in', 'few', 'days', 'time', 'she', 'has', 'learned', 'almost', 'every', 'number', 'by', 'sight', 'she', 'enjoys', 'matching', 'up', 'each', 'character', 'each', 'one', 'is', 'holding', 'number', 'with', 'their', 'spot', 'on', 'the', 'play', 'mat', 'would', 'jokingly', 'say', 'ok', 'going', 'to', 'put', 'this', 'four', 'on', 'the', 'mat', 'while', 'holding', 'seven', 'she', 'would', 'giggle', 'uncontrollably', 'and', 'say', 'that', 'not', 'four', 'if', 'she', 'forgets', 'the', 'name', 'of', 'number', 'she', 'can', 'find', 'out', 'for', 'herself', 'by', 'simply', 'placing', 'it', 'on', 'the', 'proper', 'spot', 'on', 'the', 'mat', 'thought', 'this', 'feature', 'alone', 'was', 'well', 'worth', 'the', 'money', 'the', 'other', 'counting', 'and', 'play', 'parts', 'are', 'just', 'an', 'added', 'bonus', 'yes', 'the', 'mat', 'has', 'little', 'fold', 'in', 'it', 'from', 'the', 'way', 'it', 'was', 'packaged', 'but', 'it', 'doesn', 'affect', 'the', 'play', 'at', 'all'], ['as', 'noted', 'in', 'my', 'title', 'think', 'that', 'the', 'best', 'way', 'to', 'describe', 'this', 'game', 'letters', 'that', 'are', 'more', 'difficult', 'to', 'use', 'have', 'higher', 'point', 'values', 'though', 'there', 'are', 'some', 'qu', 'cards', 'vs', 'just', 'card', 'but', 'that', 'also', 'makes', 'difference', 'in', 'points', 'it', 'quick', 'to', 'play', 'easy', 'to', 'catch', 'on', 'to', 'and', 'very', 'portable', 'scrabble', 'is', 'one', 'of', 'my', 'favorite', 'games', 'but', 'takes', 'seemingly', 'forever', 'to', 'play', 'this', 'provides', 'very', 'enjoyable', 'word', 'game', 'experience']]\n"
     ]
    }
   ],
   "source": [
    "print(test_corpus[:2])"
   ]
  },
  {
   "cell_type": "code",
   "execution_count": 18,
   "id": "499643f4",
   "metadata": {},
   "outputs": [],
   "source": [
    "model_d2v = doc2vec.Doc2Vec(vector_size=50, min_count=2, epochs=40)"
   ]
  },
  {
   "cell_type": "code",
   "execution_count": 19,
   "id": "d29ede08",
   "metadata": {},
   "outputs": [],
   "source": [
    "model_d2v.build_vocab(train_corpus)"
   ]
  },
  {
   "cell_type": "code",
   "execution_count": 25,
   "id": "d9f522f7",
   "metadata": {},
   "outputs": [
    {
     "name": "stdout",
     "output_type": "stream",
     "text": [
      "Word 'toy' appeared 50837 times in the training corpus.\n",
      "Word 'game' appeared 55403 times in the training corpus.\n",
      "Word 'joy' appeared 2401 times in the training corpus.\n",
      "Word 'dice' appeared 2401 times in the training corpus.\n"
     ]
    }
   ],
   "source": [
    "print(f\"Word 'toy' appeared {model_d2v.wv.get_vecattr('toy', 'count')} times in the training corpus.\")\n",
    "print(f\"Word 'game' appeared {model_d2v.wv.get_vecattr('game', 'count')} times in the training corpus.\")\n",
    "print(f\"Word 'joy' appeared {model_d2v.wv.get_vecattr('dice', 'count')} times in the training corpus.\")\n",
    "print(f\"Word 'dice' appeared {model_d2v.wv.get_vecattr('dice', 'count')} times in the training corpus.\")"
   ]
  },
  {
   "cell_type": "code",
   "execution_count": 26,
   "id": "5dfdbf5f",
   "metadata": {},
   "outputs": [],
   "source": [
    "model_d2v.train(train_corpus, total_examples=model_d2v.corpus_count, epochs=model_d2v.epochs)"
   ]
  },
  {
   "cell_type": "code",
   "execution_count": 31,
   "id": "455fc96d",
   "metadata": {},
   "outputs": [],
   "source": [
    "model_d2v.save('gensim_doc2vec')\n",
    "#model_d2v = doc2vec.load('Saved_models/gensim_doc2vec')"
   ]
  },
  {
   "cell_type": "code",
   "execution_count": null,
   "id": "7f77eda7",
   "metadata": {},
   "outputs": [],
   "source": [
    "ranks = []\n",
    "second_ranks = []\n",
    "for doc_id in range(len(train_corpus)):\n",
    "    inferred_vector = model_d2v.infer_vector(train_corpus[doc_id].words)\n",
    "    sims = model_d2v.dv.most_similar([inferred_vector], topn=len(model_d2v.dv))\n",
    "    rank = [docid for docid, sim in sims].index(doc_id)\n",
    "    ranks.append(rank)\n",
    "\n",
    "    second_ranks.append(sims[1])"
   ]
  },
  {
   "cell_type": "code",
   "execution_count": 30,
   "id": "60f25401",
   "metadata": {},
   "outputs": [
    {
     "name": "stdout",
     "output_type": "stream",
     "text": [
      "Counter({0: 47966, 1: 114, 2: 14, 3: 5, 6: 3, 5: 3, 4: 2, 95434: 1, 7: 1, 36288: 1, 114104: 1, 56: 1, 85016: 1, 16: 1, 11: 1, 69: 1, 59896: 1, 96348: 1, 10528: 1, 86877: 1, 79535: 1, 9569: 1, 18: 1, 204: 1, 132541: 1, 105068: 1, 39: 1, 19: 1, 17: 1, 79126: 1, 15: 1, 58855: 1, 28: 1, 100425: 1, 106211: 1, 97: 1, 100815: 1, 60: 1, 2304: 1, 66292: 1, 66221: 1, 9: 1, 90578: 1, 59: 1, 57610: 1, 84804: 1, 29: 1, 21: 1, 13940: 1})\n"
     ]
    }
   ],
   "source": [
    "counter = collections.Counter(ranks)\n",
    "print(counter)"
   ]
  },
  {
   "cell_type": "code",
   "execution_count": 66,
   "id": "ec18429e",
   "metadata": {},
   "outputs": [
    {
     "name": "stdout",
     "output_type": "stream",
     "text": [
      "Test Document (30437): «these balls were actually quite bit smaller than was expecting well below commercial size no biggie but was bit surprised by it also think the price is pretty darn high for plastic balls so far after month of use none of them are crushed or otherwise damaged the colors are bright and they don have any yucky chemical smells my son likes the bin better than the balls and has put just about everything in the house in it yay including himself he has found that it makes perfect hiding place for hide and go seek when he sits down and pulls in over himself we of course can not see through the mesh sides when he is hiding under it overall am happy with the purchase the bin and balls all look nice and function well my only real complaint is that think that they cost bit too much seems more reasonable for what we received happy to have plastic that is safe in the home our family is not big fan of plastic toys wooden ball pits filled with wooden balls not great idea sometimes plastic has its uses»\n",
      "\n",
      "SIMILAR/DISSIMILAR DOCS PER MODEL Doc2Vec(dm/m,d50,n5,w5,mc2,s0.001,t3):\n",
      "\n",
      "MOST (48755, 0.6369550824165344): «wish we picked different set of play food these are not well crafted toys that will last you for few years my daughter is pretty gentle with her toys but the paint on the play food in this set was already coming off few weeks after opening it paint rubs off onto the other pieces of food chips off the food and the wood gets nicked easily our watermelon piece is especially trashed the paint has started coming off in chunks concern when we have baby crawling around our home too and there huge crack down the middle they are poor quality but cute and child sized perfect for child hands don get why other reviewers are complaining they want play food that realistically sized you want toy fish or steak or watermelon or milk carton that proportional ve never seen play food that not in child friendly mini version it wouldn even fit in child play kitchen otherwise if you are thinking of buying because of the made in usa standards the melissa and doug brand has proudly advertised for years don be most of their toys are made in china now»\n",
      "\n",
      "SECOND (15791, 0.6203740239143372): «we bought one just like this in target made for target and it has none of the problems listed on this product paint is still intact after many plays looks still like new and we have so much fun with it stacking and sorting colors making color piles then shape piles then stack by color by shape etc it has lots of uses to prevent boredom great toy yes you should be careful not to have in laying down in the middle of the room or someplace where your toddler can fall on it clean up after play and just have fun with this»\n",
      "\n",
      "LEAST (122944, -0.49316641688346863): «we bought this game along with lego magikus and we were eager to play each even though the games are both lego products they are quite different so having played one doesn make you feel like the second is just rehash the first time you play the game you have the assemble the robot torsos and their body parts heads arms legs the game contains two booklets one with rules for play and the other with instructions on robot building along with all of the pieces you ll need with my husband help my six year old put the little robots together it was little complicated for her because some of the parts are very tiny and proved bit of challenge for her motor skills but she enjoyed assembling the robots as did we the robots themselves are very cute quite possibly my daughter favorite part of the game is the customizable changeable die she likes to take the pieces off and reassemble the die in new pattern and have to admit pretty fascinated by this as well the game is for three players although the rule book notes that you can use your own lego pieces to assemble yellow robot and expand the gameplay to fourth person and each one selects torso to begin the game taking turns rolling the die you pick up various parts for your or another player robots swap the parts etc whoever gets all of the parts of their robot first can assemble their robot and become the robo champ complete with lego style trophy for your robot to hold one of the big selling points of these games though is that they are customizable the rule book contains suggested alternate rules for play and encourages you to come up with rules of your own and even post them online for others to see like the idea that the game encourages some out of the box thinking and that it really makes the game each child own gameplay is also quick so this is an ideal game for when you don have lot of time we really love this product and are eager to buy more lego games»\n",
      "\n"
     ]
    }
   ],
   "source": [
    "# Pick a random document from the test corpus and infer a vector from the model\n",
    "doc_id = random.randint(0, len(test_corpus) - 1)\n",
    "inferred_vector = model_d2v.infer_vector(test_corpus[doc_id])\n",
    "sims = model_d2v.dv.most_similar([inferred_vector], topn=len(model_d2v.dv))\n",
    "\n",
    "# Compare and print the most/median/least similar documents from the train corpus\n",
    "print('Test Document ({}): «{}»\\n'.format(doc_id, ' '.join(test_corpus[doc_id])))\n",
    "print(u'SIMILAR/DISSIMILAR DOCS PER MODEL %s:\\n' % model_d2v)\n",
    "for label, index in [('MOST', 0), ('SECOND', 1), ('LEAST', len(sims) - 1)]:\n",
    "    print(u'%s %s: «%s»\\n' % (label, sims[index], ' '.join(train_corpus[sims[index][0]].words)))"
   ]
  }
 ],
 "metadata": {
  "kernelspec": {
   "display_name": "Python 3",
   "language": "python",
   "name": "python3"
  },
  "language_info": {
   "codemirror_mode": {
    "name": "ipython",
    "version": 3
   },
   "file_extension": ".py",
   "mimetype": "text/x-python",
   "name": "python",
   "nbconvert_exporter": "python",
   "pygments_lexer": "ipython3",
   "version": "3.6.13"
  }
 },
 "nbformat": 4,
 "nbformat_minor": 5
}
