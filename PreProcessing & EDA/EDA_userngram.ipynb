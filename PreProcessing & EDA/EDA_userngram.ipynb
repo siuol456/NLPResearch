{
 "cells": [
  {
   "cell_type": "code",
   "execution_count": 1,
   "id": "e28001e7",
   "metadata": {},
   "outputs": [],
   "source": [
    "import pandas as pd\n",
    "import numpy as np\n",
    "import string\n",
    "import nltk, re\n",
    "import matplotlib.pyplot as plt\n",
    "import seaborn as sns\n",
    "sns.set()"
   ]
  },
  {
   "cell_type": "code",
   "execution_count": 3,
   "id": "1f3b1377",
   "metadata": {},
   "outputs": [],
   "source": [
    "from nltk.corpus import stopwords\n",
    "from nltk.tokenize import word_tokenize, sent_tokenize\n",
    "from nltk.stem import PorterStemmer, WordNetLemmatizer\n",
    "from nltk import tokenize\n",
    "from collections import Counter\n",
    "# Seld designed function for ngram\n",
    "from Function.Function import base_wordpro"
   ]
  },
  {
   "cell_type": "code",
   "execution_count": 39,
   "id": "0501638e",
   "metadata": {},
   "outputs": [],
   "source": [
    "df_g = pd.read_csv('eda_g.csv')\n",
    "df_g.review_lemmatized = df_g.review_lemmatized.apply(eval)\n",
    "df_s = pd.read_csv('eda.se.csv')\n",
    "df_s.review_lemmatized = df_s.review_lemmatized.apply(eval)"
   ]
  },
  {
   "cell_type": "code",
   "execution_count": 40,
   "id": "0e08e59b",
   "metadata": {},
   "outputs": [
    {
     "data": {
      "text/html": [
       "<div>\n",
       "<style scoped>\n",
       "    .dataframe tbody tr th:only-of-type {\n",
       "        vertical-align: middle;\n",
       "    }\n",
       "\n",
       "    .dataframe tbody tr th {\n",
       "        vertical-align: top;\n",
       "    }\n",
       "\n",
       "    .dataframe thead th {\n",
       "        text-align: right;\n",
       "    }\n",
       "</style>\n",
       "<table border=\"1\" class=\"dataframe\">\n",
       "  <thead>\n",
       "    <tr style=\"text-align: right;\">\n",
       "      <th></th>\n",
       "      <th>review</th>\n",
       "      <th>overall</th>\n",
       "      <th>label</th>\n",
       "      <th>wordToken</th>\n",
       "      <th>review_lemmatized</th>\n",
       "      <th>user</th>\n",
       "      <th>product</th>\n",
       "    </tr>\n",
       "  </thead>\n",
       "  <tbody>\n",
       "    <tr>\n",
       "      <th>0</th>\n",
       "      <td>like item pricing. granddaughter wanted mark w...</td>\n",
       "      <td>5.0</td>\n",
       "      <td>pos</td>\n",
       "      <td>['like', 'item', 'pricing.', 'granddaughter', ...</td>\n",
       "      <td>[like, item, pricing., granddaughter, wanted, ...</td>\n",
       "      <td>A1VXOAVRGKGEAK</td>\n",
       "      <td>0439893577</td>\n",
       "    </tr>\n",
       "    <tr>\n",
       "      <th>1</th>\n",
       "      <td>love magnet easel... great moving different ar...</td>\n",
       "      <td>4.0</td>\n",
       "      <td>pos</td>\n",
       "      <td>['love', 'magnet', 'easel...', 'great', 'movin...</td>\n",
       "      <td>[love, magnet, easel..., great, moving, differ...</td>\n",
       "      <td>A8R62G708TSCM</td>\n",
       "      <td>0439893577</td>\n",
       "    </tr>\n",
       "    <tr>\n",
       "      <th>2</th>\n",
       "      <td>sides magnetic. real plus entertaining one chi...</td>\n",
       "      <td>5.0</td>\n",
       "      <td>pos</td>\n",
       "      <td>['sides', 'magnetic.', 'real', 'plus', 'entert...</td>\n",
       "      <td>[side, magnetic., real, plus, entertaining, on...</td>\n",
       "      <td>A21KH420DK0ICA</td>\n",
       "      <td>0439893577</td>\n",
       "    </tr>\n",
       "    <tr>\n",
       "      <th>3</th>\n",
       "      <td>bought one years ago daughter loves it, still ...</td>\n",
       "      <td>5.0</td>\n",
       "      <td>pos</td>\n",
       "      <td>['bought', 'one', 'years', 'ago', 'daughter', ...</td>\n",
       "      <td>[bought, one, year, ago, daughter, love, it,, ...</td>\n",
       "      <td>AR29QK6HPFYZ4</td>\n",
       "      <td>0439893577</td>\n",
       "    </tr>\n",
       "    <tr>\n",
       "      <th>4</th>\n",
       "      <td>stainless steel refrigerator therefore much sp...</td>\n",
       "      <td>4.0</td>\n",
       "      <td>pos</td>\n",
       "      <td>['stainless', 'steel', 'refrigerator', 'theref...</td>\n",
       "      <td>[stainless, steel, refrigerator, therefore, mu...</td>\n",
       "      <td>ACCH8EOML6FN5</td>\n",
       "      <td>0439893577</td>\n",
       "    </tr>\n",
       "  </tbody>\n",
       "</table>\n",
       "</div>"
      ],
      "text/plain": [
       "                                              review  overall label  \\\n",
       "0  like item pricing. granddaughter wanted mark w...      5.0   pos   \n",
       "1  love magnet easel... great moving different ar...      4.0   pos   \n",
       "2  sides magnetic. real plus entertaining one chi...      5.0   pos   \n",
       "3  bought one years ago daughter loves it, still ...      5.0   pos   \n",
       "4  stainless steel refrigerator therefore much sp...      4.0   pos   \n",
       "\n",
       "                                           wordToken  \\\n",
       "0  ['like', 'item', 'pricing.', 'granddaughter', ...   \n",
       "1  ['love', 'magnet', 'easel...', 'great', 'movin...   \n",
       "2  ['sides', 'magnetic.', 'real', 'plus', 'entert...   \n",
       "3  ['bought', 'one', 'years', 'ago', 'daughter', ...   \n",
       "4  ['stainless', 'steel', 'refrigerator', 'theref...   \n",
       "\n",
       "                                   review_lemmatized            user  \\\n",
       "0  [like, item, pricing., granddaughter, wanted, ...  A1VXOAVRGKGEAK   \n",
       "1  [love, magnet, easel..., great, moving, differ...   A8R62G708TSCM   \n",
       "2  [side, magnetic., real, plus, entertaining, on...  A21KH420DK0ICA   \n",
       "3  [bought, one, year, ago, daughter, love, it,, ...   AR29QK6HPFYZ4   \n",
       "4  [stainless, steel, refrigerator, therefore, mu...   ACCH8EOML6FN5   \n",
       "\n",
       "      product  \n",
       "0  0439893577  \n",
       "1  0439893577  \n",
       "2  0439893577  \n",
       "3  0439893577  \n",
       "4  0439893577  "
      ]
     },
     "execution_count": 40,
     "metadata": {},
     "output_type": "execute_result"
    }
   ],
   "source": [
    "df_g.head()"
   ]
  },
  {
   "cell_type": "code",
   "execution_count": 41,
   "id": "7b405ddd",
   "metadata": {},
   "outputs": [
    {
     "data": {
      "text/html": [
       "<div>\n",
       "<style scoped>\n",
       "    .dataframe tbody tr th:only-of-type {\n",
       "        vertical-align: middle;\n",
       "    }\n",
       "\n",
       "    .dataframe tbody tr th {\n",
       "        vertical-align: top;\n",
       "    }\n",
       "\n",
       "    .dataframe thead th {\n",
       "        text-align: right;\n",
       "    }\n",
       "</style>\n",
       "<table border=\"1\" class=\"dataframe\">\n",
       "  <thead>\n",
       "    <tr style=\"text-align: right;\">\n",
       "      <th></th>\n",
       "      <th>review</th>\n",
       "      <th>overall</th>\n",
       "      <th>label</th>\n",
       "      <th>wordToken</th>\n",
       "      <th>review_lemmatized</th>\n",
       "      <th>user</th>\n",
       "      <th>product</th>\n",
       "    </tr>\n",
       "  </thead>\n",
       "  <tbody>\n",
       "    <tr>\n",
       "      <th>0</th>\n",
       "      <td>i like the item pricing. my granddaughter want...</td>\n",
       "      <td>5.0</td>\n",
       "      <td>pos</td>\n",
       "      <td>['i', 'like', 'the', 'item', 'pricing.', 'my',...</td>\n",
       "      <td>[i, like, the, item, pricing., my, granddaught...</td>\n",
       "      <td>A1VXOAVRGKGEAK</td>\n",
       "      <td>0439893577</td>\n",
       "    </tr>\n",
       "    <tr>\n",
       "      <th>1</th>\n",
       "      <td>love the magnet easel... great for moving to d...</td>\n",
       "      <td>4.0</td>\n",
       "      <td>pos</td>\n",
       "      <td>['love', 'the', 'magnet', 'easel...', 'great',...</td>\n",
       "      <td>[love, the, magnet, easel..., great, for, movi...</td>\n",
       "      <td>A8R62G708TSCM</td>\n",
       "      <td>0439893577</td>\n",
       "    </tr>\n",
       "    <tr>\n",
       "      <th>2</th>\n",
       "      <td>both sides are magnetic. a real plus when you'...</td>\n",
       "      <td>5.0</td>\n",
       "      <td>pos</td>\n",
       "      <td>['both', 'sides', 'are', 'magnetic.', 'a', 're...</td>\n",
       "      <td>[both, side, are, magnetic., a, real, plus, wh...</td>\n",
       "      <td>A21KH420DK0ICA</td>\n",
       "      <td>0439893577</td>\n",
       "    </tr>\n",
       "    <tr>\n",
       "      <th>3</th>\n",
       "      <td>bought one a few years ago for my daughter and...</td>\n",
       "      <td>5.0</td>\n",
       "      <td>pos</td>\n",
       "      <td>['bought', 'one', 'a', 'few', 'years', 'ago', ...</td>\n",
       "      <td>[bought, one, a, few, year, ago, for, my, daug...</td>\n",
       "      <td>AR29QK6HPFYZ4</td>\n",
       "      <td>0439893577</td>\n",
       "    </tr>\n",
       "    <tr>\n",
       "      <th>4</th>\n",
       "      <td>i have a stainless steel refrigerator therefor...</td>\n",
       "      <td>4.0</td>\n",
       "      <td>pos</td>\n",
       "      <td>['i', 'have', 'a', 'stainless', 'steel', 'refr...</td>\n",
       "      <td>[i, have, a, stainless, steel, refrigerator, t...</td>\n",
       "      <td>ACCH8EOML6FN5</td>\n",
       "      <td>0439893577</td>\n",
       "    </tr>\n",
       "  </tbody>\n",
       "</table>\n",
       "</div>"
      ],
      "text/plain": [
       "                                              review  overall label  \\\n",
       "0  i like the item pricing. my granddaughter want...      5.0   pos   \n",
       "1  love the magnet easel... great for moving to d...      4.0   pos   \n",
       "2  both sides are magnetic. a real plus when you'...      5.0   pos   \n",
       "3  bought one a few years ago for my daughter and...      5.0   pos   \n",
       "4  i have a stainless steel refrigerator therefor...      4.0   pos   \n",
       "\n",
       "                                           wordToken  \\\n",
       "0  ['i', 'like', 'the', 'item', 'pricing.', 'my',...   \n",
       "1  ['love', 'the', 'magnet', 'easel...', 'great',...   \n",
       "2  ['both', 'sides', 'are', 'magnetic.', 'a', 're...   \n",
       "3  ['bought', 'one', 'a', 'few', 'years', 'ago', ...   \n",
       "4  ['i', 'have', 'a', 'stainless', 'steel', 'refr...   \n",
       "\n",
       "                                   review_lemmatized            user  \\\n",
       "0  [i, like, the, item, pricing., my, granddaught...  A1VXOAVRGKGEAK   \n",
       "1  [love, the, magnet, easel..., great, for, movi...   A8R62G708TSCM   \n",
       "2  [both, side, are, magnetic., a, real, plus, wh...  A21KH420DK0ICA   \n",
       "3  [bought, one, a, few, year, ago, for, my, daug...   AR29QK6HPFYZ4   \n",
       "4  [i, have, a, stainless, steel, refrigerator, t...   ACCH8EOML6FN5   \n",
       "\n",
       "      product  \n",
       "0  0439893577  \n",
       "1  0439893577  \n",
       "2  0439893577  \n",
       "3  0439893577  \n",
       "4  0439893577  "
      ]
     },
     "execution_count": 41,
     "metadata": {},
     "output_type": "execute_result"
    }
   ],
   "source": [
    "df_s.head()"
   ]
  },
  {
   "cell_type": "code",
   "execution_count": 45,
   "id": "6905ade1",
   "metadata": {},
   "outputs": [],
   "source": [
    "userrank=df_g.groupby(['user']).count().overall.sort_values(ascending=False).reset_index().user"
   ]
  },
  {
   "cell_type": "code",
   "execution_count": 54,
   "id": "3a5af0f2",
   "metadata": {},
   "outputs": [],
   "source": [
    "selflist = ['toy','game','get','would','also','really','it.']\n",
    "df_g = base_wordpro.removeFreqUnimportant(df_g,selflist)"
   ]
  },
  {
   "cell_type": "code",
   "execution_count": 55,
   "id": "4efa312e",
   "metadata": {},
   "outputs": [],
   "source": [
    "top20 = df_g.loc[df_g.user.isin(userrank[:19])]\n",
    "top20t050 = df_g.loc[df_g.user.isin(userrank[20:49])]\n",
    "rest = df_g.loc[df_g.user.isin(userrank[50:])]"
   ]
  },
  {
   "cell_type": "code",
   "execution_count": 56,
   "id": "f65e3d1a",
   "metadata": {},
   "outputs": [
    {
     "name": "stdout",
     "output_type": "stream",
     "text": [
      "Number of words: 30972\n"
     ]
    },
    {
     "data": {
      "image/png": "[encoded data removed]",
      "text/plain": [
       "<Figure size 432x288 with 1 Axes>"
      ]
     },
     "metadata": {},
     "output_type": "display_data"
    }
   ],
   "source": [
    "top20P = base_wordpro.wordFreqPlot(top20,lab = 'All',top=15)"
   ]
  },
  {
   "cell_type": "code",
   "execution_count": 57,
   "id": "74b2a06f",
   "metadata": {},
   "outputs": [
    {
     "name": "stdout",
     "output_type": "stream",
     "text": [
      "Number of words: 33378\n"
     ]
    },
    {
     "data": {
      "image/png": "[encoded data removed]",
      "text/plain": [
       "<Figure size 432x288 with 1 Axes>"
      ]
     },
     "metadata": {},
     "output_type": "display_data"
    }
   ],
   "source": [
    "top20t050P = base_wordpro.wordFreqPlot(top20t050,lab = 'All',top=15)"
   ]
  },
  {
   "cell_type": "code",
   "execution_count": 58,
   "id": "dcceb53a",
   "metadata": {},
   "outputs": [
    {
     "name": "stdout",
     "output_type": "stream",
     "text": [
      "Number of words: 341422\n"
     ]
    },
    {
     "data": {
      "image/png": "[encoded data removed]",
      "text/plain": [
       "<Figure size 432x288 with 1 Axes>"
      ]
     },
     "metadata": {},
     "output_type": "display_data"
    }
   ],
   "source": [
    "restP = base_wordpro.wordFreqPlot(rest,lab = 'All',top=15)"
   ]
  }
 ],
 "metadata": {
  "kernelspec": {
   "display_name": "Python 3",
   "language": "python",
   "name": "python3"
  },
  "language_info": {
   "codemirror_mode": {
    "name": "ipython",
    "version": 3
   },
   "file_extension": ".py",
   "mimetype": "text/x-python",
   "name": "python",
   "nbconvert_exporter": "python",
   "pygments_lexer": "ipython3",
   "version": "3.6.13"
  }
 },
 "nbformat": 4,
 "nbformat_minor": 5
}
