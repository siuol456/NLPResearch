{
 "cells": [
  {
   "cell_type": "code",
   "execution_count": 1,
   "id": "db186afd",
   "metadata": {},
   "outputs": [],
   "source": [
    "import json\n",
    "import pandas as pd\n",
    "import numpy as np\n",
    "import matplotlib.pyplot as plt\n",
    "import seaborn as sns\n",
    "sns.set()"
   ]
  },
  {
   "cell_type": "code",
   "execution_count": 2,
   "id": "60cebed5",
   "metadata": {},
   "outputs": [
    {
     "name": "stderr",
     "output_type": "stream",
     "text": [
      "[nltk_data] Downloading package movie_reviews to\n",
      "[nltk_data]     /Users/siuol456/nltk_data...\n",
      "[nltk_data]   Package movie_reviews is already up-to-date!\n",
      "[nltk_data] Downloading package wordnet to\n",
      "[nltk_data]     /Users/siuol456/nltk_data...\n",
      "[nltk_data]   Package wordnet is already up-to-date!\n",
      "[nltk_data] Downloading package stopwords to\n",
      "[nltk_data]     /Users/siuol456/nltk_data...\n",
      "[nltk_data]   Package stopwords is already up-to-date!\n",
      "[nltk_data] Downloading package punkt to /Users/siuol456/nltk_data...\n",
      "[nltk_data]   Package punkt is already up-to-date!\n"
     ]
    }
   ],
   "source": [
    "import string\n",
    "import nltk, re\n",
    "from nltk.corpus import stopwords\n",
    "from nltk.tokenize import word_tokenize, sent_tokenize\n",
    "from nltk.stem import PorterStemmer, WordNetLemmatizer\n",
    "from nltk import tokenize\n",
    "from collections import Counter\n",
    "nltk.download(\"movie_reviews\")\n",
    "nltk.download('wordnet')\n",
    "nltk.download('stopwords')\n",
    "nltk.download('punkt')\n",
    "# Seld designed function for ngram\n",
    "from Function.Function import base_wordpro"
   ]
  },
  {
   "cell_type": "code",
   "execution_count": 3,
   "id": "b16539ac",
   "metadata": {},
   "outputs": [],
   "source": [
    "f = open('Toys_and_Games_5.json','r')"
   ]
  },
  {
   "cell_type": "code",
   "execution_count": 4,
   "id": "348f947d",
   "metadata": {},
   "outputs": [],
   "source": [
    "review_A = []\n",
    "for line in open('Toys_and_Games_5.json', 'r'):\n",
    "    review_A.append(json.loads(line))"
   ]
  },
  {
   "cell_type": "code",
   "execution_count": 5,
   "id": "718cf258",
   "metadata": {},
   "outputs": [],
   "source": [
    "df_test = pd.DataFrame(review_A)"
   ]
  },
  {
   "cell_type": "code",
   "execution_count": 6,
   "id": "133518a9",
   "metadata": {},
   "outputs": [
    {
     "data": {
      "text/html": [
       "<div>\n",
       "<style scoped>\n",
       "    .dataframe tbody tr th:only-of-type {\n",
       "        vertical-align: middle;\n",
       "    }\n",
       "\n",
       "    .dataframe tbody tr th {\n",
       "        vertical-align: top;\n",
       "    }\n",
       "\n",
       "    .dataframe thead th {\n",
       "        text-align: right;\n",
       "    }\n",
       "</style>\n",
       "<table border=\"1\" class=\"dataframe\">\n",
       "  <thead>\n",
       "    <tr style=\"text-align: right;\">\n",
       "      <th></th>\n",
       "      <th>reviewerID</th>\n",
       "      <th>asin</th>\n",
       "      <th>reviewerName</th>\n",
       "      <th>helpful</th>\n",
       "      <th>reviewText</th>\n",
       "      <th>overall</th>\n",
       "      <th>summary</th>\n",
       "      <th>unixReviewTime</th>\n",
       "      <th>reviewTime</th>\n",
       "    </tr>\n",
       "  </thead>\n",
       "  <tbody>\n",
       "    <tr>\n",
       "      <th>0</th>\n",
       "      <td>A1VXOAVRGKGEAK</td>\n",
       "      <td>0439893577</td>\n",
       "      <td>Angie</td>\n",
       "      <td>[0, 0]</td>\n",
       "      <td>I like the item pricing. My granddaughter want...</td>\n",
       "      <td>5.0</td>\n",
       "      <td>Magnetic board</td>\n",
       "      <td>1390953600</td>\n",
       "      <td>01 29, 2014</td>\n",
       "    </tr>\n",
       "    <tr>\n",
       "      <th>1</th>\n",
       "      <td>A8R62G708TSCM</td>\n",
       "      <td>0439893577</td>\n",
       "      <td>Candace</td>\n",
       "      <td>[1, 1]</td>\n",
       "      <td>Love the magnet easel... great for moving to d...</td>\n",
       "      <td>4.0</td>\n",
       "      <td>it works pretty good for moving to different a...</td>\n",
       "      <td>1395964800</td>\n",
       "      <td>03 28, 2014</td>\n",
       "    </tr>\n",
       "    <tr>\n",
       "      <th>2</th>\n",
       "      <td>A21KH420DK0ICA</td>\n",
       "      <td>0439893577</td>\n",
       "      <td>capemaychristy</td>\n",
       "      <td>[1, 1]</td>\n",
       "      <td>Both sides are magnetic.  A real plus when you...</td>\n",
       "      <td>5.0</td>\n",
       "      <td>love this!</td>\n",
       "      <td>1359331200</td>\n",
       "      <td>01 28, 2013</td>\n",
       "    </tr>\n",
       "    <tr>\n",
       "      <th>3</th>\n",
       "      <td>AR29QK6HPFYZ4</td>\n",
       "      <td>0439893577</td>\n",
       "      <td>dcrm</td>\n",
       "      <td>[0, 0]</td>\n",
       "      <td>Bought one a few years ago for my daughter and...</td>\n",
       "      <td>5.0</td>\n",
       "      <td>Daughters love it</td>\n",
       "      <td>1391817600</td>\n",
       "      <td>02 8, 2014</td>\n",
       "    </tr>\n",
       "    <tr>\n",
       "      <th>4</th>\n",
       "      <td>ACCH8EOML6FN5</td>\n",
       "      <td>0439893577</td>\n",
       "      <td>DoyZ</td>\n",
       "      <td>[1, 1]</td>\n",
       "      <td>I have a stainless steel refrigerator therefor...</td>\n",
       "      <td>4.0</td>\n",
       "      <td>Great to have so he can play with his alphabet...</td>\n",
       "      <td>1399248000</td>\n",
       "      <td>05 5, 2014</td>\n",
       "    </tr>\n",
       "  </tbody>\n",
       "</table>\n",
       "</div>"
      ],
      "text/plain": [
       "       reviewerID        asin    reviewerName helpful  \\\n",
       "0  A1VXOAVRGKGEAK  0439893577           Angie  [0, 0]   \n",
       "1   A8R62G708TSCM  0439893577         Candace  [1, 1]   \n",
       "2  A21KH420DK0ICA  0439893577  capemaychristy  [1, 1]   \n",
       "3   AR29QK6HPFYZ4  0439893577            dcrm  [0, 0]   \n",
       "4   ACCH8EOML6FN5  0439893577            DoyZ  [1, 1]   \n",
       "\n",
       "                                          reviewText  overall  \\\n",
       "0  I like the item pricing. My granddaughter want...      5.0   \n",
       "1  Love the magnet easel... great for moving to d...      4.0   \n",
       "2  Both sides are magnetic.  A real plus when you...      5.0   \n",
       "3  Bought one a few years ago for my daughter and...      5.0   \n",
       "4  I have a stainless steel refrigerator therefor...      4.0   \n",
       "\n",
       "                                             summary  unixReviewTime  \\\n",
       "0                                     Magnetic board      1390953600   \n",
       "1  it works pretty good for moving to different a...      1395964800   \n",
       "2                                         love this!      1359331200   \n",
       "3                                  Daughters love it      1391817600   \n",
       "4  Great to have so he can play with his alphabet...      1399248000   \n",
       "\n",
       "    reviewTime  \n",
       "0  01 29, 2014  \n",
       "1  03 28, 2014  \n",
       "2  01 28, 2013  \n",
       "3   02 8, 2014  \n",
       "4   05 5, 2014  "
      ]
     },
     "execution_count": 6,
     "metadata": {},
     "output_type": "execute_result"
    }
   ],
   "source": [
    "df_test.head()"
   ]
  },
  {
   "cell_type": "code",
   "execution_count": 7,
   "id": "577a7929",
   "metadata": {},
   "outputs": [
    {
     "data": {
      "text/html": [
       "<div>\n",
       "<style scoped>\n",
       "    .dataframe tbody tr th:only-of-type {\n",
       "        vertical-align: middle;\n",
       "    }\n",
       "\n",
       "    .dataframe tbody tr th {\n",
       "        vertical-align: top;\n",
       "    }\n",
       "\n",
       "    .dataframe thead th {\n",
       "        text-align: right;\n",
       "    }\n",
       "</style>\n",
       "<table border=\"1\" class=\"dataframe\">\n",
       "  <thead>\n",
       "    <tr style=\"text-align: right;\">\n",
       "      <th></th>\n",
       "      <th>review</th>\n",
       "      <th>overall</th>\n",
       "      <th>lab</th>\n",
       "    </tr>\n",
       "  </thead>\n",
       "  <tbody>\n",
       "    <tr>\n",
       "      <th>0</th>\n",
       "      <td>I like the item pricing. My granddaughter want...</td>\n",
       "      <td>5.0</td>\n",
       "      <td>pos</td>\n",
       "    </tr>\n",
       "    <tr>\n",
       "      <th>1</th>\n",
       "      <td>Love the magnet easel... great for moving to d...</td>\n",
       "      <td>4.0</td>\n",
       "      <td>pos</td>\n",
       "    </tr>\n",
       "    <tr>\n",
       "      <th>2</th>\n",
       "      <td>Both sides are magnetic.  A real plus when you...</td>\n",
       "      <td>5.0</td>\n",
       "      <td>pos</td>\n",
       "    </tr>\n",
       "    <tr>\n",
       "      <th>3</th>\n",
       "      <td>Bought one a few years ago for my daughter and...</td>\n",
       "      <td>5.0</td>\n",
       "      <td>pos</td>\n",
       "    </tr>\n",
       "    <tr>\n",
       "      <th>4</th>\n",
       "      <td>I have a stainless steel refrigerator therefor...</td>\n",
       "      <td>4.0</td>\n",
       "      <td>pos</td>\n",
       "    </tr>\n",
       "  </tbody>\n",
       "</table>\n",
       "</div>"
      ],
      "text/plain": [
       "                                              review  overall  lab\n",
       "0  I like the item pricing. My granddaughter want...      5.0  pos\n",
       "1  Love the magnet easel... great for moving to d...      4.0  pos\n",
       "2  Both sides are magnetic.  A real plus when you...      5.0  pos\n",
       "3  Bought one a few years ago for my daughter and...      5.0  pos\n",
       "4  I have a stainless steel refrigerator therefor...      4.0  pos"
      ]
     },
     "execution_count": 7,
     "metadata": {},
     "output_type": "execute_result"
    }
   ],
   "source": [
    "df_pre = df_test[['reviewText','overall']]\n",
    "df_pre = df_pre.rename(columns={'reviewText':'review'})\n",
    "df_pre['label'] = df_pre.overall.apply(lambda x: 'neg' if x<2.5 else 'pos')\n",
    "df_pre.head()"
   ]
  },
  {
   "cell_type": "code",
   "execution_count": 8,
   "id": "f6c20edc",
   "metadata": {},
   "outputs": [
    {
     "data": {
      "text/html": [
       "<div>\n",
       "<style scoped>\n",
       "    .dataframe tbody tr th:only-of-type {\n",
       "        vertical-align: middle;\n",
       "    }\n",
       "\n",
       "    .dataframe tbody tr th {\n",
       "        vertical-align: top;\n",
       "    }\n",
       "\n",
       "    .dataframe thead th {\n",
       "        text-align: right;\n",
       "    }\n",
       "</style>\n",
       "<table border=\"1\" class=\"dataframe\">\n",
       "  <thead>\n",
       "    <tr style=\"text-align: right;\">\n",
       "      <th></th>\n",
       "      <th>review</th>\n",
       "      <th>overall</th>\n",
       "      <th>lab</th>\n",
       "      <th>wordToken</th>\n",
       "      <th>review_lemmatized</th>\n",
       "    </tr>\n",
       "  </thead>\n",
       "  <tbody>\n",
       "    <tr>\n",
       "      <th>0</th>\n",
       "      <td>like item pricing. granddaughter wanted mark w...</td>\n",
       "      <td>5.0</td>\n",
       "      <td>pos</td>\n",
       "      <td>[like, item, pricing., granddaughter, wanted, ...</td>\n",
       "      <td>[like, item, pricing., granddaughter, wanted, ...</td>\n",
       "    </tr>\n",
       "    <tr>\n",
       "      <th>1</th>\n",
       "      <td>love magnet easel... great moving different ar...</td>\n",
       "      <td>4.0</td>\n",
       "      <td>pos</td>\n",
       "      <td>[love, magnet, easel..., great, moving, differ...</td>\n",
       "      <td>[love, magnet, easel..., great, moving, differ...</td>\n",
       "    </tr>\n",
       "    <tr>\n",
       "      <th>2</th>\n",
       "      <td>sides magnetic. real plus entertaining one chi...</td>\n",
       "      <td>5.0</td>\n",
       "      <td>pos</td>\n",
       "      <td>[sides, magnetic., real, plus, entertaining, o...</td>\n",
       "      <td>[side, magnetic., real, plus, entertaining, on...</td>\n",
       "    </tr>\n",
       "    <tr>\n",
       "      <th>3</th>\n",
       "      <td>bought one years ago daughter loves it, still ...</td>\n",
       "      <td>5.0</td>\n",
       "      <td>pos</td>\n",
       "      <td>[bought, one, years, ago, daughter, loves, it,...</td>\n",
       "      <td>[bought, one, year, ago, daughter, love, it,, ...</td>\n",
       "    </tr>\n",
       "    <tr>\n",
       "      <th>4</th>\n",
       "      <td>stainless steel refrigerator therefore much sp...</td>\n",
       "      <td>4.0</td>\n",
       "      <td>pos</td>\n",
       "      <td>[stainless, steel, refrigerator, therefore, mu...</td>\n",
       "      <td>[stainless, steel, refrigerator, therefore, mu...</td>\n",
       "    </tr>\n",
       "  </tbody>\n",
       "</table>\n",
       "</div>"
      ],
      "text/plain": [
       "                                              review  overall  lab  \\\n",
       "0  like item pricing. granddaughter wanted mark w...      5.0  pos   \n",
       "1  love magnet easel... great moving different ar...      4.0  pos   \n",
       "2  sides magnetic. real plus entertaining one chi...      5.0  pos   \n",
       "3  bought one years ago daughter loves it, still ...      5.0  pos   \n",
       "4  stainless steel refrigerator therefore much sp...      4.0  pos   \n",
       "\n",
       "                                           wordToken  \\\n",
       "0  [like, item, pricing., granddaughter, wanted, ...   \n",
       "1  [love, magnet, easel..., great, moving, differ...   \n",
       "2  [sides, magnetic., real, plus, entertaining, o...   \n",
       "3  [bought, one, years, ago, daughter, loves, it,...   \n",
       "4  [stainless, steel, refrigerator, therefore, mu...   \n",
       "\n",
       "                                   review_lemmatized  \n",
       "0  [like, item, pricing., granddaughter, wanted, ...  \n",
       "1  [love, magnet, easel..., great, moving, differ...  \n",
       "2  [side, magnetic., real, plus, entertaining, on...  \n",
       "3  [bought, one, year, ago, daughter, love, it,, ...  \n",
       "4  [stainless, steel, refrigerator, therefore, mu...  "
      ]
     },
     "execution_count": 8,
     "metadata": {},
     "output_type": "execute_result"
    }
   ],
   "source": [
    "df_general = base_wordpro.lowerc(df_pre)\n",
    "df_general = base_wordpro.removePunc(df_pre)\n",
    "df_general = base_wordpro.removestop(df_pre)\n",
    "df_general = base_wordpro.wordToken(df_pre)\n",
    "df_general = base_wordpro.wordLemma(df_pre)\n",
    "df_general.head()"
   ]
  },
  {
   "cell_type": "code",
   "execution_count": 9,
   "id": "cb29432f",
   "metadata": {},
   "outputs": [
    {
     "name": "stdout",
     "output_type": "stream",
     "text": [
      "Number of words: 357897\n"
     ]
    },
    {
     "data": {
      "image/png": "[encoded data removed]",
      "text/plain": [
       "<Figure size 432x288 with 1 Axes>"
      ]
     },
     "metadata": {},
     "output_type": "display_data"
    }
   ],
   "source": [
    "base_wordpro.wordFreqPlot(df_pre,lab = 'All',top=15)"
   ]
  },
  {
   "cell_type": "code",
   "execution_count": 10,
   "id": "3d58f075",
   "metadata": {},
   "outputs": [
    {
     "data": {
      "text/html": [
       "<div>\n",
       "<style scoped>\n",
       "    .dataframe tbody tr th:only-of-type {\n",
       "        vertical-align: middle;\n",
       "    }\n",
       "\n",
       "    .dataframe tbody tr th {\n",
       "        vertical-align: top;\n",
       "    }\n",
       "\n",
       "    .dataframe thead th {\n",
       "        text-align: right;\n",
       "    }\n",
       "</style>\n",
       "<table border=\"1\" class=\"dataframe\">\n",
       "  <thead>\n",
       "    <tr style=\"text-align: right;\">\n",
       "      <th></th>\n",
       "      <th>review</th>\n",
       "      <th>overall</th>\n",
       "      <th>lab</th>\n",
       "      <th>wordToken</th>\n",
       "      <th>review_lemmatized</th>\n",
       "    </tr>\n",
       "  </thead>\n",
       "  <tbody>\n",
       "    <tr>\n",
       "      <th>0</th>\n",
       "      <td>like item pricing. granddaughter wanted mark w...</td>\n",
       "      <td>5.0</td>\n",
       "      <td>pos</td>\n",
       "      <td>[like, item, pricing., granddaughter, wanted, ...</td>\n",
       "      <td>[like, item, pricing., granddaughter, wanted, ...</td>\n",
       "    </tr>\n",
       "    <tr>\n",
       "      <th>1</th>\n",
       "      <td>love magnet easel... great moving different ar...</td>\n",
       "      <td>4.0</td>\n",
       "      <td>pos</td>\n",
       "      <td>[love, magnet, easel..., great, moving, differ...</td>\n",
       "      <td>[love, magnet, easel..., great, moving, differ...</td>\n",
       "    </tr>\n",
       "    <tr>\n",
       "      <th>2</th>\n",
       "      <td>sides magnetic. real plus entertaining one chi...</td>\n",
       "      <td>5.0</td>\n",
       "      <td>pos</td>\n",
       "      <td>[sides, magnetic., real, plus, entertaining, o...</td>\n",
       "      <td>[side, magnetic., real, plus, entertaining, on...</td>\n",
       "    </tr>\n",
       "    <tr>\n",
       "      <th>3</th>\n",
       "      <td>bought one years ago daughter loves it, still ...</td>\n",
       "      <td>5.0</td>\n",
       "      <td>pos</td>\n",
       "      <td>[bought, one, years, ago, daughter, loves, it,...</td>\n",
       "      <td>[bought, one, year, ago, daughter, love, it,, ...</td>\n",
       "    </tr>\n",
       "    <tr>\n",
       "      <th>4</th>\n",
       "      <td>stainless steel refrigerator therefore much sp...</td>\n",
       "      <td>4.0</td>\n",
       "      <td>pos</td>\n",
       "      <td>[stainless, steel, refrigerator, therefore, mu...</td>\n",
       "      <td>[stainless, steel, refrigerator, therefore, mu...</td>\n",
       "    </tr>\n",
       "  </tbody>\n",
       "</table>\n",
       "</div>"
      ],
      "text/plain": [
       "                                              review  overall  lab  \\\n",
       "0  like item pricing. granddaughter wanted mark w...      5.0  pos   \n",
       "1  love magnet easel... great moving different ar...      4.0  pos   \n",
       "2  sides magnetic. real plus entertaining one chi...      5.0  pos   \n",
       "3  bought one years ago daughter loves it, still ...      5.0  pos   \n",
       "4  stainless steel refrigerator therefore much sp...      4.0  pos   \n",
       "\n",
       "                                           wordToken  \\\n",
       "0  [like, item, pricing., granddaughter, wanted, ...   \n",
       "1  [love, magnet, easel..., great, moving, differ...   \n",
       "2  [sides, magnetic., real, plus, entertaining, o...   \n",
       "3  [bought, one, years, ago, daughter, loves, it,...   \n",
       "4  [stainless, steel, refrigerator, therefore, mu...   \n",
       "\n",
       "                                   review_lemmatized  \n",
       "0  [like, item, pricing., granddaughter, wanted, ...  \n",
       "1  [love, magnet, easel..., great, moving, differ...  \n",
       "2  [side, magnetic., real, plus, entertaining, on...  \n",
       "3  [bought, one, year, ago, daughter, love, it,, ...  \n",
       "4  [stainless, steel, refrigerator, therefore, mu...  "
      ]
     },
     "execution_count": 10,
     "metadata": {},
     "output_type": "execute_result"
    }
   ],
   "source": [
    "df_sent = base_wordpro.lowerc(df_pre)\n",
    "df_sent = base_wordpro.removePunc(df_pre)\n",
    "df_sent = base_wordpro.wordToken(df_pre)\n",
    "df_sent = base_wordpro.wordLemma(df_pre)\n",
    "df_sent.head()"
   ]
  },
  {
   "cell_type": "code",
   "execution_count": 15,
   "id": "bd998d4a",
   "metadata": {},
   "outputs": [
    {
     "name": "stdout",
     "output_type": "stream",
     "text": [
      "Number of negative words: 64324\n"
     ]
    },
    {
     "data": {
      "image/png": "[encoded data removed]",
      "text/plain": [
       "<Figure size 432x288 with 1 Axes>"
      ]
     },
     "metadata": {},
     "output_type": "display_data"
    }
   ],
   "source": [
    "base_wordpro.wordFreqPlot(df_sent,lab = 'neg',top=20)"
   ]
  },
  {
   "cell_type": "code",
   "execution_count": 16,
   "id": "7e93f98d",
   "metadata": {},
   "outputs": [
    {
     "name": "stdout",
     "output_type": "stream",
     "text": [
      "Number of positive words: 335956\n"
     ]
    },
    {
     "data": {
      "image/png": "[encoded data removed]",
      "text/plain": [
       "<Figure size 432x288 with 1 Axes>"
      ]
     },
     "metadata": {},
     "output_type": "display_data"
    }
   ],
   "source": [
    "base_wordpro.wordFreqPlot(df_sent,lab = 'pos',top=20)"
   ]
  }
 ],
 "metadata": {
  "kernelspec": {
   "display_name": "Python 3",
   "language": "python",
   "name": "python3"
  },
  "language_info": {
   "codemirror_mode": {
    "name": "ipython",
    "version": 3
   },
   "file_extension": ".py",
   "mimetype": "text/x-python",
   "name": "python",
   "nbconvert_exporter": "python",
   "pygments_lexer": "ipython3",
   "version": "3.6.13"
  }
 },
 "nbformat": 4,
 "nbformat_minor": 5
}
