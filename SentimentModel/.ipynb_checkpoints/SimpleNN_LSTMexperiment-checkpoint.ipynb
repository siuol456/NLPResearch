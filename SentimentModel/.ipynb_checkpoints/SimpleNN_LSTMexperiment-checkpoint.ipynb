{
 "cells": [
  {
   "cell_type": "code",
   "execution_count": 22,
   "metadata": {
    "id": "waFFrYatAqfp"
   },
   "outputs": [],
   "source": [
    "import pandas as pd\n",
    "import numpy as np\n",
    "import re\n",
    "import nltk\n",
    "from nltk.corpus import stopwords\n",
    "import json\n",
    "from numpy import array\n",
    "from numpy import asarray\n",
    "from numpy import zeros\n",
    "\n",
    "import seaborn as sns\n",
    "\n",
    "from keras.preprocessing.text import one_hot\n",
    "from keras.preprocessing.sequence import pad_sequences\n",
    "from keras.models import Sequential\n",
    "from keras.layers.core import Activation, Dropout, Dense\n",
    "from keras.layers import Flatten, LSTM\n",
    "from keras.layers import GlobalMaxPooling1D\n",
    "from keras.layers.embeddings import Embedding\n",
    "from sklearn.model_selection import train_test_split\n",
    "from keras.preprocessing.text import Tokenizer\n",
    "from keras.callbacks import EarlyStopping\n",
    "\n",
    "import matplotlib.pyplot as plt"
   ]
  },
  {
   "cell_type": "code",
   "execution_count": 4,
   "metadata": {
    "colab": {
     "base_uri": "https://localhost:8080/"
    },
    "id": "Gp4sWo6BBi5u",
    "outputId": "a318a37c-9579-4a24-f6bd-256375672de2"
   },
   "outputs": [
    {
     "name": "stdout",
     "output_type": "stream",
     "text": [
      "True\n"
     ]
    },
    {
     "data": {
      "text/plain": [
       "(167597, 9)"
      ]
     },
     "execution_count": 4,
     "metadata": {},
     "output_type": "execute_result"
    }
   ],
   "source": [
    "review_A = []\n",
    "for line in open('Toys_and_Games_5.json', 'r'):\n",
    "    review_A.append(json.loads(line))\n",
    "\n",
    "df = pd.DataFrame(review_A)\n",
    "\n",
    "print(df.isnull().values.any())\n",
    "\n",
    "df.shape"
   ]
  },
  {
   "cell_type": "code",
   "execution_count": 6,
   "metadata": {
    "colab": {
     "base_uri": "https://localhost:8080/",
     "height": 206
    },
    "id": "01Kw0g1bClm7",
    "outputId": "ce554994-fcf6-4dca-9c40-9a7205da9ca8"
   },
   "outputs": [
    {
     "data": {
      "text/html": [
       "<div>\n",
       "<style scoped>\n",
       "    .dataframe tbody tr th:only-of-type {\n",
       "        vertical-align: middle;\n",
       "    }\n",
       "\n",
       "    .dataframe tbody tr th {\n",
       "        vertical-align: top;\n",
       "    }\n",
       "\n",
       "    .dataframe thead th {\n",
       "        text-align: right;\n",
       "    }\n",
       "</style>\n",
       "<table border=\"1\" class=\"dataframe\">\n",
       "  <thead>\n",
       "    <tr style=\"text-align: right;\">\n",
       "      <th></th>\n",
       "      <th>reviewerID</th>\n",
       "      <th>asin</th>\n",
       "      <th>reviewerName</th>\n",
       "      <th>helpful</th>\n",
       "      <th>reviewText</th>\n",
       "      <th>overall</th>\n",
       "      <th>summary</th>\n",
       "      <th>unixReviewTime</th>\n",
       "      <th>reviewTime</th>\n",
       "    </tr>\n",
       "  </thead>\n",
       "  <tbody>\n",
       "    <tr>\n",
       "      <th>0</th>\n",
       "      <td>A1VXOAVRGKGEAK</td>\n",
       "      <td>0439893577</td>\n",
       "      <td>Angie</td>\n",
       "      <td>[0, 0]</td>\n",
       "      <td>I like the item pricing. My granddaughter want...</td>\n",
       "      <td>5.0</td>\n",
       "      <td>Magnetic board</td>\n",
       "      <td>1390953600</td>\n",
       "      <td>01 29, 2014</td>\n",
       "    </tr>\n",
       "    <tr>\n",
       "      <th>1</th>\n",
       "      <td>A8R62G708TSCM</td>\n",
       "      <td>0439893577</td>\n",
       "      <td>Candace</td>\n",
       "      <td>[1, 1]</td>\n",
       "      <td>Love the magnet easel... great for moving to d...</td>\n",
       "      <td>4.0</td>\n",
       "      <td>it works pretty good for moving to different a...</td>\n",
       "      <td>1395964800</td>\n",
       "      <td>03 28, 2014</td>\n",
       "    </tr>\n",
       "    <tr>\n",
       "      <th>2</th>\n",
       "      <td>A21KH420DK0ICA</td>\n",
       "      <td>0439893577</td>\n",
       "      <td>capemaychristy</td>\n",
       "      <td>[1, 1]</td>\n",
       "      <td>Both sides are magnetic.  A real plus when you...</td>\n",
       "      <td>5.0</td>\n",
       "      <td>love this!</td>\n",
       "      <td>1359331200</td>\n",
       "      <td>01 28, 2013</td>\n",
       "    </tr>\n",
       "    <tr>\n",
       "      <th>3</th>\n",
       "      <td>AR29QK6HPFYZ4</td>\n",
       "      <td>0439893577</td>\n",
       "      <td>dcrm</td>\n",
       "      <td>[0, 0]</td>\n",
       "      <td>Bought one a few years ago for my daughter and...</td>\n",
       "      <td>5.0</td>\n",
       "      <td>Daughters love it</td>\n",
       "      <td>1391817600</td>\n",
       "      <td>02 8, 2014</td>\n",
       "    </tr>\n",
       "    <tr>\n",
       "      <th>4</th>\n",
       "      <td>ACCH8EOML6FN5</td>\n",
       "      <td>0439893577</td>\n",
       "      <td>DoyZ</td>\n",
       "      <td>[1, 1]</td>\n",
       "      <td>I have a stainless steel refrigerator therefor...</td>\n",
       "      <td>4.0</td>\n",
       "      <td>Great to have so he can play with his alphabet...</td>\n",
       "      <td>1399248000</td>\n",
       "      <td>05 5, 2014</td>\n",
       "    </tr>\n",
       "  </tbody>\n",
       "</table>\n",
       "</div>"
      ],
      "text/plain": [
       "       reviewerID        asin    reviewerName helpful  \\\n",
       "0  A1VXOAVRGKGEAK  0439893577           Angie  [0, 0]   \n",
       "1   A8R62G708TSCM  0439893577         Candace  [1, 1]   \n",
       "2  A21KH420DK0ICA  0439893577  capemaychristy  [1, 1]   \n",
       "3   AR29QK6HPFYZ4  0439893577            dcrm  [0, 0]   \n",
       "4   ACCH8EOML6FN5  0439893577            DoyZ  [1, 1]   \n",
       "\n",
       "                                          reviewText  overall  \\\n",
       "0  I like the item pricing. My granddaughter want...      5.0   \n",
       "1  Love the magnet easel... great for moving to d...      4.0   \n",
       "2  Both sides are magnetic.  A real plus when you...      5.0   \n",
       "3  Bought one a few years ago for my daughter and...      5.0   \n",
       "4  I have a stainless steel refrigerator therefor...      4.0   \n",
       "\n",
       "                                             summary  unixReviewTime  \\\n",
       "0                                     Magnetic board      1390953600   \n",
       "1  it works pretty good for moving to different a...      1395964800   \n",
       "2                                         love this!      1359331200   \n",
       "3                                  Daughters love it      1391817600   \n",
       "4  Great to have so he can play with his alphabet...      1399248000   \n",
       "\n",
       "    reviewTime  \n",
       "0  01 29, 2014  \n",
       "1  03 28, 2014  \n",
       "2  01 28, 2013  \n",
       "3   02 8, 2014  \n",
       "4   05 5, 2014  "
      ]
     },
     "execution_count": 6,
     "metadata": {},
     "output_type": "execute_result"
    }
   ],
   "source": [
    "df.head()"
   ]
  },
  {
   "cell_type": "code",
   "execution_count": 7,
   "metadata": {
    "colab": {
     "base_uri": "https://localhost:8080/",
     "height": 297
    },
    "id": "pK92P0rZCvrm",
    "outputId": "f1dd8fc0-c54b-4748-baa2-f90808f66032"
   },
   "outputs": [
    {
     "data": {
      "text/plain": [
       "<AxesSubplot:xlabel='overall', ylabel='count'>"
      ]
     },
     "execution_count": 7,
     "metadata": {},
     "output_type": "execute_result"
    },
    {
     "data": {
      "image/png": "[encoded data removed]",
      "text/plain": [
       "<Figure size 432x288 with 1 Axes>"
      ]
     },
     "metadata": {
      "needs_background": "light"
     },
     "output_type": "display_data"
    }
   ],
   "source": [
    "sns.countplot(x='overall', data=df)"
   ]
  },
  {
   "cell_type": "code",
   "execution_count": 8,
   "metadata": {
    "id": "A45kM_HtC3y3"
   },
   "outputs": [],
   "source": [
    "#Preprovessing function to remove tags, html, special characters,and etc\n",
    "TAG_RE = re.compile(r'<[^>]+>')\n",
    "\n",
    "def remove_tags(text):\n",
    "    return TAG_RE.sub('', text)\n",
    "    \n",
    "def preprocess_text(inputSentence):\n",
    "    # Removing html tags\n",
    "    sentence = remove_tags(inputSentence)\n",
    "\n",
    "    # Remove punctuations and numbers\n",
    "    sentence = re.sub('[^a-zA-Z]', ' ', sentence)\n",
    "\n",
    "    # Single character removal\n",
    "    sentence = re.sub(r\"\\s+[a-zA-Z]\\s+\", ' ', sentence)\n",
    "\n",
    "    # Removing multiple spaces\n",
    "    sentence = re.sub(r'\\s+', ' ', sentence)\n",
    "\n",
    "    return sentence\n",
    "\n"
   ]
  },
  {
   "cell_type": "code",
   "execution_count": 9,
   "metadata": {
    "colab": {
     "base_uri": "https://localhost:8080/",
     "height": 143
    },
    "id": "AH4f4rySDpK_",
    "outputId": "a4705b16-8603-45bf-b92e-0dd81074a052"
   },
   "outputs": [
    {
     "data": {
      "text/plain": [
       "'I like the item pricing My granddaughter wanted to mark on it but wanted it just for the letters '"
      ]
     },
     "execution_count": 9,
     "metadata": {},
     "output_type": "execute_result"
    }
   ],
   "source": [
    "X = []\n",
    "sentences = list(df['reviewText'])\n",
    "for sen in sentences:\n",
    "    X.append(preprocess_text(sen))\n",
    "\n",
    "X[0]"
   ]
  },
  {
   "cell_type": "code",
   "execution_count": 11,
   "metadata": {
    "colab": {
     "base_uri": "https://localhost:8080/"
    },
    "id": "dcZCp-HaDykQ",
    "outputId": "234e0be5-4666-4fb0-c47f-af880c29dada"
   },
   "outputs": [
    {
     "data": {
      "text/plain": [
       "array([1, 1, 1, ..., 1, 1, 1])"
      ]
     },
     "execution_count": 11,
     "metadata": {},
     "output_type": "execute_result"
    }
   ],
   "source": [
    "y = df['overall']\n",
    "\n",
    "y = np.array(list(map(lambda x: 1 if x>3 else 0, y)))\n",
    "y"
   ]
  },
  {
   "cell_type": "code",
   "execution_count": 12,
   "metadata": {
    "id": "5YNVXzUpELBj"
   },
   "outputs": [],
   "source": [
    "X_train, X_test, y_train, y_test = train_test_split(X, y, test_size=0.20, random_state=42)"
   ]
  },
  {
   "cell_type": "code",
   "execution_count": 13,
   "metadata": {
    "id": "zWlXRT_AEZB_"
   },
   "outputs": [],
   "source": [
    "#using keras tokenizer\n",
    "tokenizer = Tokenizer(num_words=5000)\n",
    "tokenizer.fit_on_texts(X_train)\n",
    "\n",
    "X_train = tokenizer.texts_to_sequences(X_train)\n",
    "X_test = tokenizer.texts_to_sequences(X_test)"
   ]
  },
  {
   "cell_type": "code",
   "execution_count": 14,
   "metadata": {
    "colab": {
     "base_uri": "https://localhost:8080/"
    },
    "id": "9T563wuZEj6p",
    "outputId": "1d616734-7e6a-4e65-eb36-e8f7d80a8b37"
   },
   "outputs": [
    {
     "data": {
      "text/plain": [
       "(134077, 33520)"
      ]
     },
     "execution_count": 14,
     "metadata": {},
     "output_type": "execute_result"
    }
   ],
   "source": [
    "len(X_train), len(X_test)"
   ]
  },
  {
   "cell_type": "code",
   "execution_count": 15,
   "metadata": {
    "colab": {
     "base_uri": "https://localhost:8080/"
    },
    "id": "ncrFrpjXE_Cx",
    "outputId": "d106097a-d5ba-416e-ce1b-5bf74345a78d"
   },
   "outputs": [
    {
     "data": {
      "text/plain": [
       "(list, numpy.ndarray)"
      ]
     },
     "execution_count": 15,
     "metadata": {},
     "output_type": "execute_result"
    }
   ],
   "source": [
    "type(X_train), type(y_train)"
   ]
  },
  {
   "cell_type": "code",
   "execution_count": 16,
   "metadata": {
    "colab": {
     "base_uri": "https://localhost:8080/"
    },
    "id": "uPUaGhV6E1IO",
    "outputId": "47e4e8b9-8638-4cb3-fe31-5ea47a288ade"
   },
   "outputs": [
    {
     "data": {
      "text/plain": [
       "69469"
      ]
     },
     "execution_count": 16,
     "metadata": {},
     "output_type": "execute_result"
    }
   ],
   "source": [
    "#We set the maximum size of each list to 100. You can try a different size. The lists with size greater than 100 will be truncated to 100. \n",
    "#For the lists that have length less than 100, we will add 0 at the end of the list until it reaches the max length\n",
    "\n",
    "# Adding 1 because of reserved 0 index\n",
    "vocab_size = len(tokenizer.word_index) + 1\n",
    "\n",
    "maxlen = 100\n",
    "\n",
    "X_train = pad_sequences(X_train, padding='post', maxlen=maxlen)\n",
    "X_test = pad_sequences(X_test, padding='post', maxlen=maxlen)\n",
    "\n",
    "vocab_size #Unique words"
   ]
  },
  {
   "cell_type": "code",
   "execution_count": 17,
   "metadata": {
    "id": "4PdfME5hGe2J"
   },
   "outputs": [],
   "source": [
    "embeddings_dictionary = dict()\n",
    "\n",
    "#Download it from https://www.kaggle.com/datasets/danielwillgeorge/glove6b100dtxt\n",
    "glove_file = open('glove.6B.100d.txt', encoding=\"utf8\")\n",
    "\n",
    "for line in glove_file:\n",
    "    records = line.split()\n",
    "    word = records[0]\n",
    "    vector_dimensions = asarray(records[1:], dtype='float32')\n",
    "    embeddings_dictionary [word] = vector_dimensions\n",
    "glove_file.close()"
   ]
  },
  {
   "cell_type": "code",
   "execution_count": 18,
   "metadata": {
    "id": "ob45d2bAI6or"
   },
   "outputs": [],
   "source": [
    "embedding_matrix = zeros((vocab_size, 100)) #This matrix will have 100 rows\n",
    "for word, index in tokenizer.word_index.items():\n",
    "    embedding_vector = embeddings_dictionary.get(word)\n",
    "    if embedding_vector is not None:\n",
    "        embedding_matrix[index] = embedding_vector"
   ]
  },
  {
   "cell_type": "code",
   "execution_count": 19,
   "metadata": {
    "colab": {
     "base_uri": "https://localhost:8080/"
    },
    "id": "VoKtT5QNL8LE",
    "outputId": "f4fb3a80-e882-41f5-c775-0daac8efd6d3"
   },
   "outputs": [
    {
     "data": {
      "text/plain": [
       "(69469, 100)"
      ]
     },
     "execution_count": 19,
     "metadata": {},
     "output_type": "execute_result"
    }
   ],
   "source": [
    "embedding_matrix.shape\n",
    "#Each word has a one row and find 100 dimension of related words"
   ]
  },
  {
   "cell_type": "markdown",
   "metadata": {
    "id": "adC4_u5vJgau"
   },
   "source": [
    "# Simple neural network"
   ]
  },
  {
   "cell_type": "code",
   "execution_count": 27,
   "metadata": {
    "id": "Qy3fIWRCJlFe"
   },
   "outputs": [],
   "source": [
    "seqModel = Sequential()\n",
    "#Since we are using predefined Glove model, trainable=False. Do not training the embedding layer\n",
    "#1. Create embedding layer\n",
    "embedding_layer = Embedding(vocab_size, 100, weights=[embedding_matrix], input_length=maxlen , trainable=False)\n",
    "seqModel.add(embedding_layer)\n",
    "#2. Convert the multidimension into single array\n",
    "# Keras flatten class is very important when you have to deal with multi-dimensional inputs such as image datasets. \n",
    "# Keras.layers.flatten function flattens the multi-dimensional input tensors into a single dimension, so you can model your input layer and build your neural network model, \n",
    "# then pass those data into every single neuron of the model effectively.\n",
    "seqModel.add(Flatten())\n",
    "#3. Feed forward\n",
    "seqModel.add(Dense(1, activation='sigmoid'))\n",
    "es = EarlyStopping(monitor='val_loss', mode='min', verbose=1,patience=4)"
   ]
  },
  {
   "cell_type": "code",
   "execution_count": 28,
   "metadata": {
    "colab": {
     "base_uri": "https://localhost:8080/"
    },
    "id": "PwmL0f8VMPt1",
    "outputId": "c0ef76b1-16fd-442f-aeeb-13de9d98a4ba"
   },
   "outputs": [
    {
     "name": "stdout",
     "output_type": "stream",
     "text": [
      "Model: \"sequential_3\"\n",
      "_________________________________________________________________\n",
      "Layer (type)                 Output Shape              Param #   \n",
      "=================================================================\n",
      "embedding_3 (Embedding)      (None, 100, 100)          6946900   \n",
      "_________________________________________________________________\n",
      "flatten_3 (Flatten)          (None, 10000)             0         \n",
      "_________________________________________________________________\n",
      "dense_3 (Dense)              (None, 1)                 10001     \n",
      "=================================================================\n",
      "Total params: 6,956,901\n",
      "Trainable params: 10,001\n",
      "Non-trainable params: 6,946,900\n",
      "_________________________________________________________________\n",
      "None\n"
     ]
    }
   ],
   "source": [
    "seqModel.compile(optimizer='adam', loss='binary_crossentropy', metrics=['acc'])\n",
    "\n",
    "print(seqModel.summary())"
   ]
  },
  {
   "cell_type": "markdown",
   "metadata": {
    "id": "KYpI_cUVNcho"
   },
   "source": [
    "## Train the model"
   ]
  },
  {
   "cell_type": "code",
   "execution_count": 29,
   "metadata": {
    "colab": {
     "base_uri": "https://localhost:8080/"
    },
    "id": "u220aMiQNFIF",
    "outputId": "49e3b534-d0d2-4fd7-a44d-dd09fabb186a"
   },
   "outputs": [
    {
     "name": "stdout",
     "output_type": "stream",
     "text": [
      "Train on 107261 samples, validate on 26816 samples\n",
      "Epoch 1/20\n",
      "107261/107261 [==============================] - 3s 29us/step - loss: 0.3958 - acc: 0.8331 - val_loss: 0.3901 - val_acc: 0.8429\n",
      "Epoch 2/20\n",
      "107261/107261 [==============================] - 3s 25us/step - loss: 0.3589 - acc: 0.8462 - val_loss: 0.3937 - val_acc: 0.8429\n",
      "Epoch 3/20\n",
      "107261/107261 [==============================] - 3s 25us/step - loss: 0.3464 - acc: 0.8512 - val_loss: 0.3906 - val_acc: 0.8256\n",
      "Epoch 4/20\n",
      "107261/107261 [==============================] - 3s 25us/step - loss: 0.3395 - acc: 0.8543 - val_loss: 0.3894 - val_acc: 0.8304\n",
      "Epoch 5/20\n",
      "107261/107261 [==============================] - 3s 25us/step - loss: 0.3378 - acc: 0.8562 - val_loss: 0.3858 - val_acc: 0.8349\n",
      "Epoch 6/20\n",
      "107261/107261 [==============================] - 3s 26us/step - loss: 0.3329 - acc: 0.8584 - val_loss: 0.3893 - val_acc: 0.8409\n",
      "Epoch 7/20\n",
      "107261/107261 [==============================] - 3s 26us/step - loss: 0.3300 - acc: 0.8600 - val_loss: 0.3966 - val_acc: 0.8426\n",
      "Epoch 8/20\n",
      "107261/107261 [==============================] - 3s 25us/step - loss: 0.3286 - acc: 0.8606 - val_loss: 0.4016 - val_acc: 0.8427\n",
      "Epoch 9/20\n",
      "107261/107261 [==============================] - 3s 26us/step - loss: 0.3273 - acc: 0.8599 - val_loss: 0.3960 - val_acc: 0.8387\n",
      "Epoch 00009: early stopping\n"
     ]
    }
   ],
   "source": [
    "# The validation_split of 0.2 means that 20% of the training data is used to find the training accuracy of the algorithm.\n",
    "history = seqModel.fit(X_train, y_train, batch_size=128, epochs=20, verbose=1, validation_split=0.2,callbacks=[es])"
   ]
  },
  {
   "cell_type": "code",
   "execution_count": 30,
   "metadata": {
    "colab": {
     "base_uri": "https://localhost:8080/"
    },
    "id": "3mDnF5FpNlBk",
    "outputId": "937489ec-4fa3-4fe8-f7ba-eebea282c7d2"
   },
   "outputs": [
    {
     "name": "stdout",
     "output_type": "stream",
     "text": [
      "33520/33520 [==============================] - 1s 26us/step\n"
     ]
    }
   ],
   "source": [
    "score = seqModel.evaluate(X_test, y_test, verbose=1)"
   ]
  },
  {
   "cell_type": "code",
   "execution_count": 31,
   "metadata": {
    "colab": {
     "base_uri": "https://localhost:8080/"
    },
    "id": "4uYEMxPjN9tt",
    "outputId": "e080b760-667a-4841-c7fa-83574dc612f1"
   },
   "outputs": [
    {
     "name": "stdout",
     "output_type": "stream",
     "text": [
      "Test Score: 0.3980428145011456\n",
      "Test Accuracy: 0.8361873626708984\n"
     ]
    }
   ],
   "source": [
    "print(\"Test Score:\", score[0])\n",
    "print(\"Test Accuracy:\", score[1])"
   ]
  },
  {
   "cell_type": "code",
   "execution_count": 32,
   "metadata": {
    "colab": {
     "base_uri": "https://localhost:8080/",
     "height": 573
    },
    "id": "GIFzAD47OCOo",
    "outputId": "9620e095-a1ad-4780-df1b-25950f416f28"
   },
   "outputs": [
    {
     "data": {
      "image/png": "[encoded data removed]",
      "text/plain": [
       "<Figure size 432x288 with 1 Axes>"
      ]
     },
     "metadata": {
      "needs_background": "light"
     },
     "output_type": "display_data"
    },
    {
     "data": {
      "image/png": "[encoded data removed]",
      "text/plain": [
       "<Figure size 432x288 with 1 Axes>"
      ]
     },
     "metadata": {
      "needs_background": "light"
     },
     "output_type": "display_data"
    }
   ],
   "source": [
    "def show_performance_plot(history):\n",
    "  #show the model accuracy\n",
    "  plt.plot(history.history['acc'])\n",
    "  plt.plot(history.history['val_acc'])\n",
    "\n",
    "  plt.title('model accuracy')\n",
    "  plt.ylabel('accuracy')\n",
    "  plt.xlabel('epoch')\n",
    "  plt.legend(['train','test'], loc='upper left')\n",
    "  plt.show()\n",
    "  #show model loss\n",
    "  plt.plot(history.history['loss'])\n",
    "  plt.plot(history.history['val_loss'])\n",
    "\n",
    "  plt.title('model loss')\n",
    "  plt.ylabel('loss')\n",
    "  plt.xlabel('epoch')\n",
    "  plt.legend(['train','test'], loc='upper left')\n",
    "  plt.show()\n",
    "\n",
    "show_performance_plot(history)"
   ]
  },
  {
   "cell_type": "markdown",
   "metadata": {
    "id": "ju6cJNEICpKQ"
   },
   "source": [
    "LSTM Model"
   ]
  },
  {
   "cell_type": "code",
   "execution_count": 33,
   "metadata": {
    "id": "8d79iM0LCrmc"
   },
   "outputs": [],
   "source": [
    "modelLSTM = Sequential()\n",
    "embedding_layer = Embedding(vocab_size, 100, weights=[embedding_matrix], input_length=maxlen , trainable=False)\n",
    "modelLSTM.add(embedding_layer)\n",
    "modelLSTM.add(LSTM(128))\n",
    "\n",
    "modelLSTM.add(Dense(1, activation='sigmoid'))"
   ]
  },
  {
   "cell_type": "code",
   "execution_count": 34,
   "metadata": {
    "colab": {
     "base_uri": "https://localhost:8080/"
    },
    "id": "6nJAtXQ6CzEl",
    "outputId": "7571441b-b7db-446d-9a8a-5b498857c83d"
   },
   "outputs": [
    {
     "name": "stdout",
     "output_type": "stream",
     "text": [
      "Model: \"sequential_4\"\n",
      "_________________________________________________________________\n",
      "Layer (type)                 Output Shape              Param #   \n",
      "=================================================================\n",
      "embedding_4 (Embedding)      (None, 100, 100)          6946900   \n",
      "_________________________________________________________________\n",
      "lstm_1 (LSTM)                (None, 128)               117248    \n",
      "_________________________________________________________________\n",
      "dense_4 (Dense)              (None, 1)                 129       \n",
      "=================================================================\n",
      "Total params: 7,064,277\n",
      "Trainable params: 117,377\n",
      "Non-trainable params: 6,946,900\n",
      "_________________________________________________________________\n",
      "None\n"
     ]
    }
   ],
   "source": [
    "modelLSTM.compile(optimizer='adam', loss='binary_crossentropy', metrics=['acc'])\n",
    "print(modelLSTM.summary())"
   ]
  },
  {
   "cell_type": "code",
   "execution_count": 38,
   "metadata": {
    "colab": {
     "base_uri": "https://localhost:8080/"
    },
    "id": "pKNmeP8PC5p-",
    "outputId": "57d5836a-2955-4da7-d7b1-1746a82e995c"
   },
   "outputs": [
    {
     "name": "stdout",
     "output_type": "stream",
     "text": [
      "Train on 107261 samples, validate on 26816 samples\n",
      "Epoch 1/15\n",
      "107261/107261 [==============================] - 449s 4ms/step - loss: 0.4084 - acc: 0.8372 - val_loss: 0.3370 - val_acc: 0.8519\n",
      "Epoch 2/15\n",
      "107261/107261 [==============================] - 454s 4ms/step - loss: 0.3128 - acc: 0.8648 - val_loss: 0.2856 - val_acc: 0.8761\n",
      "Epoch 3/15\n",
      "107261/107261 [==============================] - 486s 5ms/step - loss: 0.2807 - acc: 0.8809 - val_loss: 0.2680 - val_acc: 0.8851\n",
      "Epoch 4/15\n",
      "107261/107261 [==============================] - 514s 5ms/step - loss: 0.2623 - acc: 0.8898 - val_loss: 0.2570 - val_acc: 0.8916\n",
      "Epoch 5/15\n",
      "107261/107261 [==============================] - 519s 5ms/step - loss: 0.2484 - acc: 0.8964 - val_loss: 0.2575 - val_acc: 0.8907\n",
      "Epoch 6/15\n",
      "107261/107261 [==============================] - 547s 5ms/step - loss: 0.2355 - acc: 0.9029 - val_loss: 0.2449 - val_acc: 0.8978\n",
      "Epoch 7/15\n",
      "107261/107261 [==============================] - 494s 5ms/step - loss: 0.2237 - acc: 0.9084 - val_loss: 0.2449 - val_acc: 0.9001\n",
      "Epoch 8/15\n",
      "107261/107261 [==============================] - 507s 5ms/step - loss: 0.2118 - acc: 0.9140 - val_loss: 0.2466 - val_acc: 0.8981\n",
      "Epoch 9/15\n",
      "107261/107261 [==============================] - 538s 5ms/step - loss: 0.2010 - acc: 0.9189 - val_loss: 0.2503 - val_acc: 0.8952\n",
      "Epoch 10/15\n",
      "107261/107261 [==============================] - 540s 5ms/step - loss: 0.1883 - acc: 0.9247 - val_loss: 0.2570 - val_acc: 0.9012\n",
      "Epoch 11/15\n",
      "107261/107261 [==============================] - 479s 4ms/step - loss: 0.1757 - acc: 0.9304 - val_loss: 0.2599 - val_acc: 0.8949\n",
      "Epoch 00011: early stopping\n",
      "33520/33520 [==============================] - 73s 2ms/step\n"
     ]
    }
   ],
   "source": [
    "history = modelLSTM.fit(X_train, y_train, batch_size=128, epochs=15, verbose=1, validation_split=0.2,callbacks=[es])\n",
    "\n",
    "scoreTest = modelLSTM.evaluate(X_test, y_test, verbose=1)"
   ]
  },
  {
   "cell_type": "code",
   "execution_count": 39,
   "metadata": {
    "colab": {
     "base_uri": "https://localhost:8080/"
    },
    "id": "v7LZZpfxC9U9",
    "outputId": "0c883995-4d9b-405a-9d1a-b0e3d6d7d34e"
   },
   "outputs": [
    {
     "name": "stdout",
     "output_type": "stream",
     "text": [
      "Test Score: 0.26564541372663936\n",
      "Test Accuracy: 0.8914379477500916\n"
     ]
    }
   ],
   "source": [
    "print(\"Test Score:\", scoreTest[0])\n",
    "print(\"Test Accuracy:\", scoreTest[1])"
   ]
  },
  {
   "cell_type": "code",
   "execution_count": 40,
   "metadata": {
    "colab": {
     "base_uri": "https://localhost:8080/",
     "height": 573
    },
    "id": "FY76N0A7DBrV",
    "outputId": "9a707940-36eb-49a4-889e-fff1344683e6"
   },
   "outputs": [
    {
     "data": {
      "image/png": "[encoded data removed]",
      "text/plain": [
       "<Figure size 432x288 with 1 Axes>"
      ]
     },
     "metadata": {
      "needs_background": "light"
     },
     "output_type": "display_data"
    },
    {
     "data": {
      "image/png": "[encoded data removed]",
      "text/plain": [
       "<Figure size 432x288 with 1 Axes>"
      ]
     },
     "metadata": {
      "needs_background": "light"
     },
     "output_type": "display_data"
    }
   ],
   "source": [
    "show_performance_plot(history)"
   ]
  },
  {
   "cell_type": "code",
   "execution_count": 41,
   "metadata": {
    "id": "QU0aXlhTKZFf"
   },
   "outputs": [],
   "source": [
    " modelLSTM.save('LSTM.h5')"
   ]
  },
  {
   "cell_type": "code",
   "execution_count": 43,
   "metadata": {},
   "outputs": [],
   "source": [
    "from keras.models import load_model"
   ]
  },
  {
   "cell_type": "code",
   "execution_count": 44,
   "metadata": {},
   "outputs": [],
   "source": [
    "model2 = load_model('Model/LSTM.h5')"
   ]
  },
  {
   "cell_type": "code",
   "execution_count": 45,
   "metadata": {},
   "outputs": [
    {
     "name": "stdout",
     "output_type": "stream",
     "text": [
      "Model: \"sequential_4\"\n",
      "_________________________________________________________________\n",
      "Layer (type)                 Output Shape              Param #   \n",
      "=================================================================\n",
      "embedding_4 (Embedding)      (None, 100, 100)          6946900   \n",
      "_________________________________________________________________\n",
      "lstm_1 (LSTM)                (None, 128)               117248    \n",
      "_________________________________________________________________\n",
      "dense_4 (Dense)              (None, 1)                 129       \n",
      "=================================================================\n",
      "Total params: 7,064,277\n",
      "Trainable params: 117,377\n",
      "Non-trainable params: 6,946,900\n",
      "_________________________________________________________________\n"
     ]
    }
   ],
   "source": [
    "model2.summary()"
   ]
  },
  {
   "cell_type": "code",
   "execution_count": 46,
   "metadata": {},
   "outputs": [
    {
     "name": "stdout",
     "output_type": "stream",
     "text": [
      "33520/33520 [==============================] - 75s 2ms/step\n"
     ]
    },
    {
     "data": {
      "text/plain": [
       "[0.26564541372663936, 0.8914379477500916]"
      ]
     },
     "execution_count": 46,
     "metadata": {},
     "output_type": "execute_result"
    }
   ],
   "source": [
    "model2.evaluate(X_test, y_test, verbose=1)"
   ]
  },
  {
   "cell_type": "code",
   "execution_count": null,
   "metadata": {},
   "outputs": [],
   "source": []
  }
 ],
 "metadata": {
  "colab": {
   "name": "Text Classification with Simple Neural Network.ipynb",
   "provenance": []
  },
  "kernelspec": {
   "display_name": "Python 3",
   "language": "python",
   "name": "python3"
  },
  "language_info": {
   "codemirror_mode": {
    "name": "ipython",
    "version": 3
   },
   "file_extension": ".py",
   "mimetype": "text/x-python",
   "name": "python",
   "nbconvert_exporter": "python",
   "pygments_lexer": "ipython3",
   "version": "3.6.13"
  }
 },
 "nbformat": 4,
 "nbformat_minor": 1
}
