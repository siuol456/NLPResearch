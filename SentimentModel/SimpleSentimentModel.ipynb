{
 "cells": [
  {
   "cell_type": "code",
   "execution_count": 19,
   "id": "021a3a52",
   "metadata": {},
   "outputs": [
    {
     "name": "stderr",
     "output_type": "stream",
     "text": [
      "[nltk_data] Downloading package movie_reviews to\n",
      "[nltk_data]     /Users/siuol456/nltk_data...\n",
      "[nltk_data]   Package movie_reviews is already up-to-date!\n",
      "[nltk_data] Downloading package wordnet to\n",
      "[nltk_data]     /Users/siuol456/nltk_data...\n",
      "[nltk_data]   Package wordnet is already up-to-date!\n",
      "[nltk_data] Downloading package stopwords to\n",
      "[nltk_data]     /Users/siuol456/nltk_data...\n",
      "[nltk_data]   Package stopwords is already up-to-date!\n",
      "[nltk_data] Downloading package punkt to /Users/siuol456/nltk_data...\n",
      "[nltk_data]   Package punkt is already up-to-date!\n"
     ]
    }
   ],
   "source": [
    "import json\n",
    "import pandas as pd\n",
    "import numpy as np\n",
    "import string\n",
    "import nltk\n",
    "import re\n",
    "from nltk.corpus import stopwords\n",
    "from nltk.tokenize import word_tokenize, sent_tokenize\n",
    "from nltk.stem import  WordNetLemmatizer\n",
    "from nltk import tokenize\n",
    "from collections import Counter\n",
    "import matplotlib.pyplot as plt\n",
    "import seaborn as sns\n",
    "import scikitplot as skplt\n",
    "sns.set()\n",
    "nltk.download(\"movie_reviews\")\n",
    "nltk.download('wordnet')\n",
    "nltk.download('stopwords')\n",
    "nltk.download('punkt')\n",
    "\n",
    "#Models\n",
    "from sklearn.feature_extraction.text import CountVectorizer, TfidfVectorizer\n",
    "from sklearn.model_selection import train_test_split\n",
    "from sklearn.naive_bayes import GaussianNB\n",
    "from sklearn.linear_model import LogisticRegression\n",
    "\n",
    "#Evaluation\n",
    "from sklearn.metrics import roc_auc_score, accuracy_score"
   ]
  },
  {
   "cell_type": "code",
   "execution_count": 2,
   "id": "70083c44",
   "metadata": {},
   "outputs": [
    {
     "data": {
      "text/html": [
       "<div>\n",
       "<style scoped>\n",
       "    .dataframe tbody tr th:only-of-type {\n",
       "        vertical-align: middle;\n",
       "    }\n",
       "\n",
       "    .dataframe tbody tr th {\n",
       "        vertical-align: top;\n",
       "    }\n",
       "\n",
       "    .dataframe thead th {\n",
       "        text-align: right;\n",
       "    }\n",
       "</style>\n",
       "<table border=\"1\" class=\"dataframe\">\n",
       "  <thead>\n",
       "    <tr style=\"text-align: right;\">\n",
       "      <th></th>\n",
       "      <th>reviewerID</th>\n",
       "      <th>asin</th>\n",
       "      <th>reviewerName</th>\n",
       "      <th>helpful</th>\n",
       "      <th>reviewText</th>\n",
       "      <th>overall</th>\n",
       "      <th>summary</th>\n",
       "      <th>unixReviewTime</th>\n",
       "      <th>reviewTime</th>\n",
       "    </tr>\n",
       "  </thead>\n",
       "  <tbody>\n",
       "    <tr>\n",
       "      <th>0</th>\n",
       "      <td>A1VXOAVRGKGEAK</td>\n",
       "      <td>0439893577</td>\n",
       "      <td>Angie</td>\n",
       "      <td>[0, 0]</td>\n",
       "      <td>I like the item pricing. My granddaughter want...</td>\n",
       "      <td>5.0</td>\n",
       "      <td>Magnetic board</td>\n",
       "      <td>1390953600</td>\n",
       "      <td>01 29, 2014</td>\n",
       "    </tr>\n",
       "    <tr>\n",
       "      <th>1</th>\n",
       "      <td>A8R62G708TSCM</td>\n",
       "      <td>0439893577</td>\n",
       "      <td>Candace</td>\n",
       "      <td>[1, 1]</td>\n",
       "      <td>Love the magnet easel... great for moving to d...</td>\n",
       "      <td>4.0</td>\n",
       "      <td>it works pretty good for moving to different a...</td>\n",
       "      <td>1395964800</td>\n",
       "      <td>03 28, 2014</td>\n",
       "    </tr>\n",
       "    <tr>\n",
       "      <th>2</th>\n",
       "      <td>A21KH420DK0ICA</td>\n",
       "      <td>0439893577</td>\n",
       "      <td>capemaychristy</td>\n",
       "      <td>[1, 1]</td>\n",
       "      <td>Both sides are magnetic.  A real plus when you...</td>\n",
       "      <td>5.0</td>\n",
       "      <td>love this!</td>\n",
       "      <td>1359331200</td>\n",
       "      <td>01 28, 2013</td>\n",
       "    </tr>\n",
       "    <tr>\n",
       "      <th>3</th>\n",
       "      <td>AR29QK6HPFYZ4</td>\n",
       "      <td>0439893577</td>\n",
       "      <td>dcrm</td>\n",
       "      <td>[0, 0]</td>\n",
       "      <td>Bought one a few years ago for my daughter and...</td>\n",
       "      <td>5.0</td>\n",
       "      <td>Daughters love it</td>\n",
       "      <td>1391817600</td>\n",
       "      <td>02 8, 2014</td>\n",
       "    </tr>\n",
       "    <tr>\n",
       "      <th>4</th>\n",
       "      <td>ACCH8EOML6FN5</td>\n",
       "      <td>0439893577</td>\n",
       "      <td>DoyZ</td>\n",
       "      <td>[1, 1]</td>\n",
       "      <td>I have a stainless steel refrigerator therefor...</td>\n",
       "      <td>4.0</td>\n",
       "      <td>Great to have so he can play with his alphabet...</td>\n",
       "      <td>1399248000</td>\n",
       "      <td>05 5, 2014</td>\n",
       "    </tr>\n",
       "  </tbody>\n",
       "</table>\n",
       "</div>"
      ],
      "text/plain": [
       "       reviewerID        asin    reviewerName helpful  \\\n",
       "0  A1VXOAVRGKGEAK  0439893577           Angie  [0, 0]   \n",
       "1   A8R62G708TSCM  0439893577         Candace  [1, 1]   \n",
       "2  A21KH420DK0ICA  0439893577  capemaychristy  [1, 1]   \n",
       "3   AR29QK6HPFYZ4  0439893577            dcrm  [0, 0]   \n",
       "4   ACCH8EOML6FN5  0439893577            DoyZ  [1, 1]   \n",
       "\n",
       "                                          reviewText  overall  \\\n",
       "0  I like the item pricing. My granddaughter want...      5.0   \n",
       "1  Love the magnet easel... great for moving to d...      4.0   \n",
       "2  Both sides are magnetic.  A real plus when you...      5.0   \n",
       "3  Bought one a few years ago for my daughter and...      5.0   \n",
       "4  I have a stainless steel refrigerator therefor...      4.0   \n",
       "\n",
       "                                             summary  unixReviewTime  \\\n",
       "0                                     Magnetic board      1390953600   \n",
       "1  it works pretty good for moving to different a...      1395964800   \n",
       "2                                         love this!      1359331200   \n",
       "3                                  Daughters love it      1391817600   \n",
       "4  Great to have so he can play with his alphabet...      1399248000   \n",
       "\n",
       "    reviewTime  \n",
       "0  01 29, 2014  \n",
       "1  03 28, 2014  \n",
       "2  01 28, 2013  \n",
       "3   02 8, 2014  \n",
       "4   05 5, 2014  "
      ]
     },
     "execution_count": 2,
     "metadata": {},
     "output_type": "execute_result"
    }
   ],
   "source": [
    "review_A = []\n",
    "for line in open('Toys_and_Games_5.json', 'r'):\n",
    "    review_A.append(json.loads(line))\n",
    "df = pd.DataFrame(review_A)\n",
    "df_origin = df.copy()\n",
    "df.head()"
   ]
  },
  {
   "cell_type": "code",
   "execution_count": 3,
   "id": "970d2ad9",
   "metadata": {},
   "outputs": [
    {
     "name": "stderr",
     "output_type": "stream",
     "text": [
      "/var/folders/69/tnjppgnx2md8_3xmcmk3vyg00000gn/T/ipykernel_10672/1971218235.py:2: SettingWithCopyWarning: \n",
      "A value is trying to be set on a copy of a slice from a DataFrame.\n",
      "Try using .loc[row_indexer,col_indexer] = value instead\n",
      "\n",
      "See the caveats in the documentation: https://pandas.pydata.org/pandas-docs/stable/user_guide/indexing.html#returning-a-view-versus-a-copy\n",
      "  df_target.overall = df_target.overall.apply(lambda x: 1 if x>3 else 0)\n"
     ]
    },
    {
     "data": {
      "text/html": [
       "<div>\n",
       "<style scoped>\n",
       "    .dataframe tbody tr th:only-of-type {\n",
       "        vertical-align: middle;\n",
       "    }\n",
       "\n",
       "    .dataframe tbody tr th {\n",
       "        vertical-align: top;\n",
       "    }\n",
       "\n",
       "    .dataframe thead th {\n",
       "        text-align: right;\n",
       "    }\n",
       "</style>\n",
       "<table border=\"1\" class=\"dataframe\">\n",
       "  <thead>\n",
       "    <tr style=\"text-align: right;\">\n",
       "      <th></th>\n",
       "      <th>reviewText</th>\n",
       "      <th>overall</th>\n",
       "    </tr>\n",
       "  </thead>\n",
       "  <tbody>\n",
       "    <tr>\n",
       "      <th>0</th>\n",
       "      <td>I like the item pricing. My granddaughter want...</td>\n",
       "      <td>1</td>\n",
       "    </tr>\n",
       "    <tr>\n",
       "      <th>1</th>\n",
       "      <td>Love the magnet easel... great for moving to d...</td>\n",
       "      <td>1</td>\n",
       "    </tr>\n",
       "    <tr>\n",
       "      <th>2</th>\n",
       "      <td>Both sides are magnetic.  A real plus when you...</td>\n",
       "      <td>1</td>\n",
       "    </tr>\n",
       "    <tr>\n",
       "      <th>3</th>\n",
       "      <td>Bought one a few years ago for my daughter and...</td>\n",
       "      <td>1</td>\n",
       "    </tr>\n",
       "    <tr>\n",
       "      <th>4</th>\n",
       "      <td>I have a stainless steel refrigerator therefor...</td>\n",
       "      <td>1</td>\n",
       "    </tr>\n",
       "  </tbody>\n",
       "</table>\n",
       "</div>"
      ],
      "text/plain": [
       "                                          reviewText  overall\n",
       "0  I like the item pricing. My granddaughter want...        1\n",
       "1  Love the magnet easel... great for moving to d...        1\n",
       "2  Both sides are magnetic.  A real plus when you...        1\n",
       "3  Bought one a few years ago for my daughter and...        1\n",
       "4  I have a stainless steel refrigerator therefor...        1"
      ]
     },
     "execution_count": 3,
     "metadata": {},
     "output_type": "execute_result"
    }
   ],
   "source": [
    "df_target = df[['reviewText','overall']]\n",
    "df_target.overall = df_target.overall.apply(lambda x: 1 if x>3 else 0)\n",
    "df_target.head()"
   ]
  },
  {
   "cell_type": "code",
   "execution_count": 4,
   "id": "51c6a238",
   "metadata": {},
   "outputs": [],
   "source": [
    "#Preprovessing function to remove tags, html, special characters,and etc\n",
    "TAG_RE = re.compile(r'<[^>]+>')\n",
    "\n",
    "def remove_tags(text):\n",
    "    return TAG_RE.sub('', text)\n",
    "    \n",
    "def preprocess_text(inputSentence):\n",
    "    # Removing html tags\n",
    "    sentence = remove_tags(inputSentence)\n",
    "\n",
    "    # Remove punctuations and numbers\n",
    "    sentence = re.sub('[^a-zA-Z]', ' ', sentence)\n",
    "\n",
    "    # Single character removal\n",
    "    sentence = re.sub(r\"\\s+[a-zA-Z]\\s+\", ' ', sentence)\n",
    "\n",
    "    # Removing multiple spaces\n",
    "    sentence = re.sub(r'\\s+', ' ', sentence)\n",
    "\n",
    "    return sentence"
   ]
  },
  {
   "cell_type": "code",
   "execution_count": 5,
   "id": "e7df7903",
   "metadata": {},
   "outputs": [
    {
     "name": "stderr",
     "output_type": "stream",
     "text": [
      "/var/folders/69/tnjppgnx2md8_3xmcmk3vyg00000gn/T/ipykernel_10672/251909425.py:1: SettingWithCopyWarning: \n",
      "A value is trying to be set on a copy of a slice from a DataFrame.\n",
      "Try using .loc[row_indexer,col_indexer] = value instead\n",
      "\n",
      "See the caveats in the documentation: https://pandas.pydata.org/pandas-docs/stable/user_guide/indexing.html#returning-a-view-versus-a-copy\n",
      "  df_target.reviewText = df_target.reviewText.apply(lambda x: preprocess_text(x).lower())\n"
     ]
    },
    {
     "data": {
      "text/html": [
       "<div>\n",
       "<style scoped>\n",
       "    .dataframe tbody tr th:only-of-type {\n",
       "        vertical-align: middle;\n",
       "    }\n",
       "\n",
       "    .dataframe tbody tr th {\n",
       "        vertical-align: top;\n",
       "    }\n",
       "\n",
       "    .dataframe thead th {\n",
       "        text-align: right;\n",
       "    }\n",
       "</style>\n",
       "<table border=\"1\" class=\"dataframe\">\n",
       "  <thead>\n",
       "    <tr style=\"text-align: right;\">\n",
       "      <th></th>\n",
       "      <th>reviewText</th>\n",
       "      <th>overall</th>\n",
       "    </tr>\n",
       "  </thead>\n",
       "  <tbody>\n",
       "    <tr>\n",
       "      <th>0</th>\n",
       "      <td>i like the item pricing my granddaughter wante...</td>\n",
       "      <td>1</td>\n",
       "    </tr>\n",
       "    <tr>\n",
       "      <th>1</th>\n",
       "      <td>love the magnet easel great for moving to diff...</td>\n",
       "      <td>1</td>\n",
       "    </tr>\n",
       "    <tr>\n",
       "      <th>2</th>\n",
       "      <td>both sides are magnetic real plus when you re ...</td>\n",
       "      <td>1</td>\n",
       "    </tr>\n",
       "    <tr>\n",
       "      <th>3</th>\n",
       "      <td>bought one few years ago for my daughter and s...</td>\n",
       "      <td>1</td>\n",
       "    </tr>\n",
       "    <tr>\n",
       "      <th>4</th>\n",
       "      <td>i have stainless steel refrigerator therefore ...</td>\n",
       "      <td>1</td>\n",
       "    </tr>\n",
       "  </tbody>\n",
       "</table>\n",
       "</div>"
      ],
      "text/plain": [
       "                                          reviewText  overall\n",
       "0  i like the item pricing my granddaughter wante...        1\n",
       "1  love the magnet easel great for moving to diff...        1\n",
       "2  both sides are magnetic real plus when you re ...        1\n",
       "3  bought one few years ago for my daughter and s...        1\n",
       "4  i have stainless steel refrigerator therefore ...        1"
      ]
     },
     "execution_count": 5,
     "metadata": {},
     "output_type": "execute_result"
    }
   ],
   "source": [
    "df_target.reviewText = df_target.reviewText.apply(lambda x: preprocess_text(x).lower())\n",
    "df_target.head()"
   ]
  },
  {
   "cell_type": "code",
   "execution_count": 6,
   "id": "43b56a49",
   "metadata": {},
   "outputs": [
    {
     "name": "stderr",
     "output_type": "stream",
     "text": [
      "/var/folders/69/tnjppgnx2md8_3xmcmk3vyg00000gn/T/ipykernel_10672/3801127436.py:2: SettingWithCopyWarning: \n",
      "A value is trying to be set on a copy of a slice from a DataFrame.\n",
      "Try using .loc[row_indexer,col_indexer] = value instead\n",
      "\n",
      "See the caveats in the documentation: https://pandas.pydata.org/pandas-docs/stable/user_guide/indexing.html#returning-a-view-versus-a-copy\n",
      "  df_target.reviewText = df_target.reviewText.apply(lambda x:x.split())\n"
     ]
    }
   ],
   "source": [
    "lemmatizer = WordNetLemmatizer()\n",
    "df_target.reviewText = df_target.reviewText.apply(lambda x:x.split())"
   ]
  },
  {
   "cell_type": "code",
   "execution_count": 7,
   "id": "7db42076",
   "metadata": {},
   "outputs": [],
   "source": [
    "X = (df_target.reviewText.apply(lambda x: ''.join([lemmatizer.lemmatize(word) for word in x])))\n",
    "y = (df_target.overall)"
   ]
  },
  {
   "cell_type": "code",
   "execution_count": 8,
   "id": "bb7b0509",
   "metadata": {},
   "outputs": [],
   "source": [
    "bow = CountVectorizer(max_features=25000, lowercase=True,analyzer = \"word\")\n",
    "bow_feature = bow.fit_transform(X)\n",
    "X_train, X_test, y_train, y_test = train_test_split(bow_feature.toarray(), y,test_size=0.2,random_state=731)"
   ]
  },
  {
   "cell_type": "code",
   "execution_count": 9,
   "id": "3963653b",
   "metadata": {},
   "outputs": [],
   "source": [
    "import pickle"
   ]
  },
  {
   "cell_type": "code",
   "execution_count": null,
   "id": "8d9375d6",
   "metadata": {},
   "outputs": [],
   "source": [
    "logM = LogisticRegression()\n",
    "logM.fit(X_train,y_train)\n",
    "#pickle.dump(logM, open('logisticmodel.sav', 'wb'))"
   ]
  },
  {
   "cell_type": "code",
   "execution_count": 10,
   "id": "3b5cba5e",
   "metadata": {},
   "outputs": [],
   "source": [
    "logM = pickle.load(open('Model/logisticmodel.sav', 'rb'))\n",
    "#logM.score(X_test, y_test)"
   ]
  },
  {
   "cell_type": "code",
   "execution_count": 12,
   "id": "88f2829b",
   "metadata": {},
   "outputs": [
    {
     "data": {
      "text/plain": [
       "GaussianNB()"
      ]
     },
     "execution_count": 12,
     "metadata": {},
     "output_type": "execute_result"
    }
   ],
   "source": [
    "nbM = GaussianNB()\n",
    "nbM.fit(X_train,y_train)"
   ]
  },
  {
   "cell_type": "code",
   "execution_count": 13,
   "id": "81db3a39",
   "metadata": {},
   "outputs": [],
   "source": [
    "#pickle.dump(nbM , open('NaiveBayes.sav', 'wb'))\n",
    "nbM = pickle.load(open('Model/NaiveBayes.sav', 'rb'))"
   ]
  },
  {
   "cell_type": "code",
   "execution_count": 16,
   "id": "35e0d3e0",
   "metadata": {},
   "outputs": [],
   "source": [
    "models = [logM,nbM]\n",
    "auc_train = []\n",
    "auc_test  = []\n",
    "acc_train = []\n",
    "acc_test  = []\n",
    "for m in models:\n",
    "    prob_test  = m.predict_proba(X_test)\n",
    "    prob_train = m.predict_proba(X_train)\n",
    "    pred_test  = m.predict(X_test)\n",
    "    pred_train = m.predict(X_train)\n",
    "    auc_train.append(roc_auc_score(y_train, prob_train[:,1]))\n",
    "    auc_test.append(roc_auc_score(y_test, prob_test[:,1]))\n",
    "    acc_train.append(accuracy_score(y_train, pred_train))\n",
    "    acc_test.append(accuracy_score(y_test, pred_test)) \n",
    "r_name = ['Logistic','NaiveBayes']\n",
    "Result = pd.DataFrame({'ROC_AUC_Train':auc_train,\n",
    "                       'ROC_AUC_Test':auc_test,\n",
    "                       'Train_Accuracy':acc_train,\n",
    "                       'Test_Accuracy':acc_test,\n",
    "                      },index=r_name)"
   ]
  },
  {
   "cell_type": "code",
   "execution_count": 23,
   "id": "17faa0f3",
   "metadata": {},
   "outputs": [
    {
     "data": {
      "text/html": [
       "<div>\n",
       "<style scoped>\n",
       "    .dataframe tbody tr th:only-of-type {\n",
       "        vertical-align: middle;\n",
       "    }\n",
       "\n",
       "    .dataframe tbody tr th {\n",
       "        vertical-align: top;\n",
       "    }\n",
       "\n",
       "    .dataframe thead th {\n",
       "        text-align: right;\n",
       "    }\n",
       "</style>\n",
       "<table border=\"1\" class=\"dataframe\">\n",
       "  <thead>\n",
       "    <tr style=\"text-align: right;\">\n",
       "      <th></th>\n",
       "      <th>Logistic</th>\n",
       "      <th>NaiveBayes</th>\n",
       "    </tr>\n",
       "  </thead>\n",
       "  <tbody>\n",
       "    <tr>\n",
       "      <th>ROC_AUC_Train</th>\n",
       "      <td>0.649599</td>\n",
       "      <td>0.573009</td>\n",
       "    </tr>\n",
       "    <tr>\n",
       "      <th>ROC_AUC_Test</th>\n",
       "      <td>0.501539</td>\n",
       "      <td>0.501195</td>\n",
       "    </tr>\n",
       "    <tr>\n",
       "      <th>Train_Accuracy</th>\n",
       "      <td>0.837026</td>\n",
       "      <td>0.285194</td>\n",
       "    </tr>\n",
       "    <tr>\n",
       "      <th>Test_Accuracy</th>\n",
       "      <td>0.835591</td>\n",
       "      <td>0.166527</td>\n",
       "    </tr>\n",
       "  </tbody>\n",
       "</table>\n",
       "</div>"
      ],
      "text/plain": [
       "                Logistic  NaiveBayes\n",
       "ROC_AUC_Train   0.649599    0.573009\n",
       "ROC_AUC_Test    0.501539    0.501195\n",
       "Train_Accuracy  0.837026    0.285194\n",
       "Test_Accuracy   0.835591    0.166527"
      ]
     },
     "execution_count": 23,
     "metadata": {},
     "output_type": "execute_result"
    }
   ],
   "source": [
    "Result.T"
   ]
  },
  {
   "cell_type": "code",
   "execution_count": 20,
   "id": "7eb0dd8a",
   "metadata": {},
   "outputs": [
    {
     "data": {
      "image/png": "[encoded data removed]",
      "text/plain": [
       "<Figure size 1080x504 with 4 Axes>"
      ]
     },
     "metadata": {},
     "output_type": "display_data"
    }
   ],
   "source": [
    "plt.figure(figsize=(15,7))\n",
    "grid = plt.GridSpec(1, 2, wspace=0.3, hspace=0.4)\n",
    "\n",
    "for i in range(2):\n",
    "\n",
    "    col, row = i%2,i//2\n",
    "    ax = plt.subplot(grid[row,col]) \n",
    "    ax.title.set_color('blue')\n",
    "\n",
    "    m = models[i]\n",
    "    pred_test  = m.predict(X_test)\n",
    "    skplt.metrics.plot_confusion_matrix(y_test, pred_test,\n",
    "                text_fontsize='large',ax=ax,title=type(m).__name__)\n",
    "\n",
    "plt.show()"
   ]
  },
  {
   "cell_type": "code",
   "execution_count": null,
   "id": "d1a83654",
   "metadata": {},
   "outputs": [],
   "source": []
  }
 ],
 "metadata": {
  "kernelspec": {
   "display_name": "Python 3 (ipykernel)",
   "language": "python",
   "name": "python3"
  },
  "language_info": {
   "codemirror_mode": {
    "name": "ipython",
    "version": 3
   },
   "file_extension": ".py",
   "mimetype": "text/x-python",
   "name": "python",
   "nbconvert_exporter": "python",
   "pygments_lexer": "ipython3",
   "version": "3.9.12"
  }
 },
 "nbformat": 4,
 "nbformat_minor": 5
}
